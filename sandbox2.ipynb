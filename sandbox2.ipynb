{
  "cells": [
    {
      "cell_type": "code",
      "execution_count": null,
      "metadata": {
        "id": "z83kfSoDlTCO"
      },
      "outputs": [],
      "source": [
        "import cv2\n",
        "import numpy as np\n",
        "import pandas as pd\n",
        "import scipy.stats as ss\n",
        "import matplotlib.pyplot as plt\n",
        "\n",
        "\n",
        "import torch\n",
        "import torch.nn as nn\n",
        "import torch.nn.functional as F\n",
        "import torch.optim as optim\n",
        "from torch.autograd import Variable\n",
        "import torch.utils.data as data\n",
        "\n",
        "import scipy.stats as ss\n",
        "\n",
        "import torchvision.transforms as transforms\n",
        "import torchvision.datasets as datasets\n",
        "\n",
        "from sklearn import metrics\n",
        "from sklearn import decomposition\n",
        "from sklearn import manifold\n",
        "from tqdm.notebook import trange, tqdm\n",
        "\n",
        "from PIL import Image, ImageDraw, ImageFont\n",
        "import PIL\n",
        "\n",
        "import os\n",
        "\n",
        "import copy\n",
        "import random\n",
        "import time\n",
        "\n",
        "%matplotlib inline"
      ],
      "id": "z83kfSoDlTCO"
    },
    {
      "cell_type": "code",
      "execution_count": null,
      "metadata": {
        "id": "rCSisZi5mz1U"
      },
      "outputs": [],
      "source": [
        "# !pip install transformers\n",
        "# !pip install sentencepiece\n",
        "# !pip install transformers[sentencepiece]\n",
        "# !pip install --upgrade pip"
      ],
      "id": "rCSisZi5mz1U"
    },
    {
      "cell_type": "code",
      "execution_count": null,
      "metadata": {
        "id": "myqtKRCkmsgD"
      },
      "outputs": [],
      "source": [
        "from transformers import TrOCRProcessor, VisionEncoderDecoderModel\n",
        "import requests\n",
        "import sentencepiece"
      ],
      "id": "myqtKRCkmsgD"
    },
    {
      "cell_type": "code",
      "execution_count": null,
      "metadata": {
        "colab": {
          "base_uri": "https://localhost:8080/"
        },
        "id": "DBPvy8BQlcUC",
        "outputId": "b9f5ae68-7de2-49ed-f876-599b6884d666"
      },
      "outputs": [
        {
          "name": "stdout",
          "output_type": "stream",
          "text": [
            "Drive already mounted at ./data; to attempt to forcibly remount, call drive.mount(\"./data\", force_remount=True).\n"
          ]
        }
      ],
      "source": [
        "from google.colab import drive\n",
        "drive.mount('./data')"
      ],
      "id": "DBPvy8BQlcUC"
    },
    {
      "cell_type": "code",
      "execution_count": null,
      "metadata": {
        "id": "qDb643XG-I2U"
      },
      "outputs": [],
      "source": [
        "!cp /content/data/MyDrive/ColabNotebooks/Doc_recognition/Passports/pre_train.py /content\n",
        "!cp /content/data/MyDrive/ColabNotebooks/Doc_recognition/Passports/models.py /content"
      ],
      "id": "qDb643XG-I2U"
    },
    {
      "cell_type": "code",
      "execution_count": null,
      "metadata": {
        "id": "xD32kIa3-xrT"
      },
      "outputs": [],
      "source": [
        "PREFIX = \"data/MyDrive/ColabNotebooks/Doc_recognition/Passports/\"\n",
        "PASSPORTS_PATH = PREFIX + \"dataset/images/\""
      ],
      "id": "xD32kIa3-xrT"
    },
    {
      "cell_type": "code",
      "execution_count": null,
      "metadata": {
        "colab": {
          "base_uri": "https://localhost:8080/",
          "height": 197
        },
        "id": "eqBnPxxKm7si",
        "outputId": "00bfbb0e-5df1-4008-cc1f-e0ee2b6e3dfa"
      },
      "outputs": [
        {
          "data": {
            "text/plain": [
              "<matplotlib.image.AxesImage at 0x7f6528fe5f10>"
            ]
          },
          "execution_count": 37,
          "metadata": {},
          "output_type": "execute_result"
        },
        {
          "data": {
            "image/png": "[encoded data removed]",
            "text/plain": [
              "<Figure size 1152x720 with 1 Axes>"
            ]
          },
          "metadata": {},
          "output_type": "display_data"
        }
      ],
      "source": [
        "# load image from the IAM database (actually this model is meant to be used on printed text)\n",
        "image = PIL.Image.open(PREFIX + \"dataset/images/passport111.jpg\").crop((295, 408, 410, 425))\n",
        "plt.figure(figsize=(16, 10))\n",
        "plt.imshow(image)"
      ],
      "id": "eqBnPxxKm7si"
    },
    {
      "cell_type": "code",
      "execution_count": null,
      "metadata": {
        "id": "y9ZAnBksrSAy"
      },
      "outputs": [],
      "source": [
        "#  !pip install --no-cache-dir transformers sentencepiece"
      ],
      "id": "y9ZAnBksrSAy"
    },
    {
      "cell_type": "code",
      "execution_count": null,
      "metadata": {
        "colab": {
          "base_uri": "https://localhost:8080/"
        },
        "id": "KPnBbQ-UnjFQ",
        "outputId": "9538571b-ae96-4a90-ce7d-5387ca5d5672"
      },
      "outputs": [
        {
          "name": "stderr",
          "output_type": "stream",
          "text": [
            "Could not find image processor class in the image processor config or the model config. Loading based on pattern matching with the model's feature extractor configuration.\n",
            "Some weights of VisionEncoderDecoderModel were not initialized from the model checkpoint at microsoft/trocr-base-printed and are newly initialized: ['encoder.pooler.dense.weight', 'encoder.pooler.dense.bias']\n",
            "You should probably TRAIN this model on a down-stream task to be able to use it for predictions and inference.\n"
          ]
        }
      ],
      "source": [
        "processor = TrOCRProcessor.from_pretrained('microsoft/trocr-base-printed')\n",
        "model = VisionEncoderDecoderModel.from_pretrained('microsoft/trocr-base-printed')"
      ],
      "id": "KPnBbQ-UnjFQ"
    },
    {
      "cell_type": "code",
      "execution_count": null,
      "metadata": {
        "id": "5s7seLv3tL3B"
      },
      "outputs": [],
      "source": [
        "model"
      ],
      "id": "5s7seLv3tL3B"
    },
    {
      "cell_type": "code",
      "execution_count": null,
      "metadata": {
        "colab": {
          "base_uri": "https://localhost:8080/",
          "height": 206
        },
        "id": "OFkcEf67AP-v",
        "outputId": "aece8024-38be-43d0-e508-65471cd257e9"
      },
      "outputs": [
        {
          "data": {
            "text/html": [
              "\n",
              "  <div id=\"df-d2874b73-9ce3-49f1-853b-cef3db0eb424\">\n",
              "    <div class=\"colab-df-container\">\n",
              "      <div>\n",
              "<style scoped>\n",
              "    .dataframe tbody tr th:only-of-type {\n",
              "        vertical-align: middle;\n",
              "    }\n",
              "\n",
              "    .dataframe tbody tr th {\n",
              "        vertical-align: top;\n",
              "    }\n",
              "\n",
              "    .dataframe thead th {\n",
              "        text-align: right;\n",
              "    }\n",
              "</style>\n",
              "<table border=\"1\" class=\"dataframe\">\n",
              "  <thead>\n",
              "    <tr style=\"text-align: right;\">\n",
              "      <th></th>\n",
              "      <th>Unnamed: 0</th>\n",
              "      <th>file_name</th>\n",
              "      <th>text</th>\n",
              "    </tr>\n",
              "  </thead>\n",
              "  <tbody>\n",
              "    <tr>\n",
              "      <th>0</th>\n",
              "      <td>0</td>\n",
              "      <td>crop-0-department1.jpg</td>\n",
              "      <td>СУХОЛОЖСКИМ ОВД СВЕРДЛОВСКОЙ ОБЛ.</td>\n",
              "    </tr>\n",
              "    <tr>\n",
              "      <th>1</th>\n",
              "      <td>1</td>\n",
              "      <td>crop-0-passport_date.jpg</td>\n",
              "      <td>17.02.2022</td>\n",
              "    </tr>\n",
              "    <tr>\n",
              "      <th>2</th>\n",
              "      <td>2</td>\n",
              "      <td>crop-0-code.jpg</td>\n",
              "      <td>662-051</td>\n",
              "    </tr>\n",
              "    <tr>\n",
              "      <th>3</th>\n",
              "      <td>3</td>\n",
              "      <td>crop-0-surname1.jpg</td>\n",
              "      <td>НОВИКОВ</td>\n",
              "    </tr>\n",
              "    <tr>\n",
              "      <th>4</th>\n",
              "      <td>4</td>\n",
              "      <td>crop-0-name.jpg</td>\n",
              "      <td>АНАТОЛИЙ</td>\n",
              "    </tr>\n",
              "  </tbody>\n",
              "</table>\n",
              "</div>\n",
              "      <button class=\"colab-df-convert\" onclick=\"convertToInteractive('df-d2874b73-9ce3-49f1-853b-cef3db0eb424')\"\n",
              "              title=\"Convert this dataframe to an interactive table.\"\n",
              "              style=\"display:none;\">\n",
              "        \n",
              "  <svg xmlns=\"http://www.w3.org/2000/svg\" height=\"24px\"viewBox=\"0 0 24 24\"\n",
              "       width=\"24px\">\n",
              "    <path d=\"M0 0h24v24H0V0z\" fill=\"none\"/>\n",
              "    <path d=\"M18.56 5.44l.94 2.06.94-2.06 2.06-.94-2.06-.94-.94-2.06-.94 2.06-2.06.94zm-11 1L8.5 8.5l.94-2.06 2.06-.94-2.06-.94L8.5 2.5l-.94 2.06-2.06.94zm10 10l.94 2.06.94-2.06 2.06-.94-2.06-.94-.94-2.06-.94 2.06-2.06.94z\"/><path d=\"M17.41 7.96l-1.37-1.37c-.4-.4-.92-.59-1.43-.59-.52 0-1.04.2-1.43.59L10.3 9.45l-7.72 7.72c-.78.78-.78 2.05 0 2.83L4 21.41c.39.39.9.59 1.41.59.51 0 1.02-.2 1.41-.59l7.78-7.78 2.81-2.81c.8-.78.8-2.07 0-2.86zM5.41 20L4 18.59l7.72-7.72 1.47 1.35L5.41 20z\"/>\n",
              "  </svg>\n",
              "      </button>\n",
              "      \n",
              "  <style>\n",
              "    .colab-df-container {\n",
              "      display:flex;\n",
              "      flex-wrap:wrap;\n",
              "      gap: 12px;\n",
              "    }\n",
              "\n",
              "    .colab-df-convert {\n",
              "      background-color: #E8F0FE;\n",
              "      border: none;\n",
              "      border-radius: 50%;\n",
              "      cursor: pointer;\n",
              "      display: none;\n",
              "      fill: #1967D2;\n",
              "      height: 32px;\n",
              "      padding: 0 0 0 0;\n",
              "      width: 32px;\n",
              "    }\n",
              "\n",
              "    .colab-df-convert:hover {\n",
              "      background-color: #E2EBFA;\n",
              "      box-shadow: 0px 1px 2px rgba(60, 64, 67, 0.3), 0px 1px 3px 1px rgba(60, 64, 67, 0.15);\n",
              "      fill: #174EA6;\n",
              "    }\n",
              "\n",
              "    [theme=dark] .colab-df-convert {\n",
              "      background-color: #3B4455;\n",
              "      fill: #D2E3FC;\n",
              "    }\n",
              "\n",
              "    [theme=dark] .colab-df-convert:hover {\n",
              "      background-color: #434B5C;\n",
              "      box-shadow: 0px 1px 3px 1px rgba(0, 0, 0, 0.15);\n",
              "      filter: drop-shadow(0px 1px 2px rgba(0, 0, 0, 0.3));\n",
              "      fill: #FFFFFF;\n",
              "    }\n",
              "  </style>\n",
              "\n",
              "      <script>\n",
              "        const buttonEl =\n",
              "          document.querySelector('#df-d2874b73-9ce3-49f1-853b-cef3db0eb424 button.colab-df-convert');\n",
              "        buttonEl.style.display =\n",
              "          google.colab.kernel.accessAllowed ? 'block' : 'none';\n",
              "\n",
              "        async function convertToInteractive(key) {\n",
              "          const element = document.querySelector('#df-d2874b73-9ce3-49f1-853b-cef3db0eb424');\n",
              "          const dataTable =\n",
              "            await google.colab.kernel.invokeFunction('convertToInteractive',\n",
              "                                                     [key], {});\n",
              "          if (!dataTable) return;\n",
              "\n",
              "          const docLinkHtml = 'Like what you see? Visit the ' +\n",
              "            '<a target=\"_blank\" href=https://colab.research.google.com/notebooks/data_table.ipynb>data table notebook</a>'\n",
              "            + ' to learn more about interactive tables.';\n",
              "          element.innerHTML = '';\n",
              "          dataTable['output_type'] = 'display_data';\n",
              "          await google.colab.output.renderOutput(dataTable, element);\n",
              "          const docLink = document.createElement('div');\n",
              "          docLink.innerHTML = docLinkHtml;\n",
              "          element.appendChild(docLink);\n",
              "        }\n",
              "      </script>\n",
              "    </div>\n",
              "  </div>\n",
              "  "
            ],
            "text/plain": [
              "   Unnamed: 0                 file_name                               text\n",
              "0           0    crop-0-department1.jpg  СУХОЛОЖСКИМ ОВД СВЕРДЛОВСКОЙ ОБЛ.\n",
              "1           1  crop-0-passport_date.jpg                         17.02.2022\n",
              "2           2           crop-0-code.jpg                            662-051\n",
              "3           3       crop-0-surname1.jpg                            НОВИКОВ\n",
              "4           4           crop-0-name.jpg                           АНАТОЛИЙ"
            ]
          },
          "execution_count": 42,
          "metadata": {},
          "output_type": "execute_result"
        }
      ],
      "source": [
        "df = pd.read_csv(PREFIX + \"dataset/Crops.csv\")\n",
        "df.head()"
      ],
      "id": "OFkcEf67AP-v"
    },
    {
      "cell_type": "code",
      "execution_count": null,
      "metadata": {
        "id": "IDmpKYF02a2l"
      },
      "outputs": [],
      "source": [
        "crops = np.array(df.loc[:, [\"file_name\", \"text\"]])"
      ],
      "id": "IDmpKYF02a2l"
    },
    {
      "cell_type": "code",
      "execution_count": 84,
      "metadata": {
        "id": "5q-ZB5YIIEuJ"
      },
      "outputs": [],
      "source": [
        "n = np.random.randint(1000)\n",
        "file_name, text = crops[n, :]\n",
        "image = PIL.Image.open(PREFIX + f\"dataset/crops/{file_name}\")"
      ],
      "id": "5q-ZB5YIIEuJ"
    },
    {
      "cell_type": "code",
      "execution_count": 85,
      "metadata": {
        "colab": {
          "base_uri": "https://localhost:8080/",
          "height": 148
        },
        "id": "aNn2J6tEIaue",
        "outputId": "a7d54a02-3cc0-46ff-b203-2c1bcb297022"
      },
      "outputs": [
        {
          "output_type": "stream",
          "name": "stdout",
          "text": [
            "ДАНИЛОВИЧ\n"
          ]
        },
        {
          "output_type": "execute_result",
          "data": {
            "text/plain": [
              "<matplotlib.image.AxesImage at 0x7f650e38d550>"
            ]
          },
          "metadata": {},
          "execution_count": 85
        },
        {
          "output_type": "display_data",
          "data": {
            "text/plain": [
              "<Figure size 432x288 with 1 Axes>"
            ],
            "image/png": "[encoded data removed]"
          },
          "metadata": {
            "needs_background": "light"
          }
        }
      ],
      "source": [
        "print(text)\n",
        "plt.imshow(image)"
      ],
      "id": "aNn2J6tEIaue"
    },
    {
      "cell_type": "code",
      "execution_count": 86,
      "metadata": {
        "id": "TyrwbDiYGufg"
      },
      "outputs": [],
      "source": [
        "pixel_values = processor(images=image, return_tensors=\"pt\").pixel_values"
      ],
      "id": "TyrwbDiYGufg"
    },
    {
      "cell_type": "code",
      "execution_count": 87,
      "metadata": {
        "id": "R61OHWaHoBBS"
      },
      "outputs": [],
      "source": [
        "generated_ids = model.generate(pixel_values, max_new_tokens=100)\n",
        "generated_text = processor.batch_decode(generated_ids, skip_special_tokens=True)[0]"
      ],
      "id": "R61OHWaHoBBS"
    },
    {
      "cell_type": "code",
      "execution_count": 88,
      "metadata": {
        "colab": {
          "base_uri": "https://localhost:8080/"
        },
        "id": "nPwQIUJMnyF5",
        "outputId": "c2f42296-f4bf-4325-a66d-e240d84ab2f8"
      },
      "outputs": [
        {
          "output_type": "execute_result",
          "data": {
            "text/plain": [
              "(tensor([[    2,  3134, 35441,   863,  7912, 25518,     2]]), 'DAHMJOBMY')"
            ]
          },
          "metadata": {},
          "execution_count": 88
        }
      ],
      "source": [
        "generated_ids, generated_text"
      ],
      "id": "nPwQIUJMnyF5"
    },
    {
      "cell_type": "code",
      "execution_count": 51,
      "metadata": {
        "id": "bD6Kn16OV3F9"
      },
      "outputs": [],
      "source": [
        "# transform = transforms.Compose([transforms.PILToTensor()])\n",
        "# img = transform(image.resize((384, 384)))[None, :, :, :]"
      ],
      "id": "bD6Kn16OV3F9"
    },
    {
      "cell_type": "code",
      "execution_count": 60,
      "metadata": {
        "colab": {
          "base_uri": "https://localhost:8080/"
        },
        "id": "h6ZUvyXFciUY",
        "outputId": "cd84bdd6-546c-4ffd-e28f-f99ccd0e30fe"
      },
      "outputs": [
        {
          "output_type": "execute_result",
          "data": {
            "text/plain": [
              "torch.Size([1, 3, 384, 384])"
            ]
          },
          "metadata": {},
          "execution_count": 60
        }
      ],
      "source": [
        "pixel_values.shape"
      ],
      "id": "h6ZUvyXFciUY"
    },
    {
      "cell_type": "code",
      "execution_count": 67,
      "metadata": {
        "id": "OnCgnW2JVHb_",
        "colab": {
          "base_uri": "https://localhost:8080/",
          "height": 328
        },
        "outputId": "06875d30-5d58-4787-be4b-320924e6ef6b"
      },
      "outputs": [
        {
          "output_type": "error",
          "ename": "AttributeError",
          "evalue": "ignored",
          "traceback": [
            "\u001b[0;31m---------------------------------------------------------------------------\u001b[0m",
            "\u001b[0;31mAttributeError\u001b[0m                            Traceback (most recent call last)",
            "\u001b[0;32m<ipython-input-67-34006abdf5bc>\u001b[0m in \u001b[0;36m<module>\u001b[0;34m\u001b[0m\n\u001b[0;32m----> 1\u001b[0;31m \u001b[0mmodel\u001b[0m\u001b[0;34m.\u001b[0m\u001b[0mgenerate\u001b[0m\u001b[0;34m(\u001b[0m\u001b[0;34m\"oh\"\u001b[0m\u001b[0;34m,\u001b[0m \u001b[0mpixel_values\u001b[0m\u001b[0;34m)\u001b[0m\u001b[0;34m\u001b[0m\u001b[0;34m\u001b[0m\u001b[0m\n\u001b[0m",
            "\u001b[0;32m/usr/local/lib/python3.9/dist-packages/torch/autograd/grad_mode.py\u001b[0m in \u001b[0;36mdecorate_context\u001b[0;34m(*args, **kwargs)\u001b[0m\n\u001b[1;32m     25\u001b[0m         \u001b[0;32mdef\u001b[0m \u001b[0mdecorate_context\u001b[0m\u001b[0;34m(\u001b[0m\u001b[0;34m*\u001b[0m\u001b[0margs\u001b[0m\u001b[0;34m,\u001b[0m \u001b[0;34m**\u001b[0m\u001b[0mkwargs\u001b[0m\u001b[0;34m)\u001b[0m\u001b[0;34m:\u001b[0m\u001b[0;34m\u001b[0m\u001b[0;34m\u001b[0m\u001b[0m\n\u001b[1;32m     26\u001b[0m             \u001b[0;32mwith\u001b[0m \u001b[0mself\u001b[0m\u001b[0;34m.\u001b[0m\u001b[0mclone\u001b[0m\u001b[0;34m(\u001b[0m\u001b[0;34m)\u001b[0m\u001b[0;34m:\u001b[0m\u001b[0;34m\u001b[0m\u001b[0;34m\u001b[0m\u001b[0m\n\u001b[0;32m---> 27\u001b[0;31m                 \u001b[0;32mreturn\u001b[0m \u001b[0mfunc\u001b[0m\u001b[0;34m(\u001b[0m\u001b[0;34m*\u001b[0m\u001b[0margs\u001b[0m\u001b[0;34m,\u001b[0m \u001b[0;34m**\u001b[0m\u001b[0mkwargs\u001b[0m\u001b[0;34m)\u001b[0m\u001b[0;34m\u001b[0m\u001b[0;34m\u001b[0m\u001b[0m\n\u001b[0m\u001b[1;32m     28\u001b[0m         \u001b[0;32mreturn\u001b[0m \u001b[0mcast\u001b[0m\u001b[0;34m(\u001b[0m\u001b[0mF\u001b[0m\u001b[0;34m,\u001b[0m \u001b[0mdecorate_context\u001b[0m\u001b[0;34m)\u001b[0m\u001b[0;34m\u001b[0m\u001b[0;34m\u001b[0m\u001b[0m\n\u001b[1;32m     29\u001b[0m \u001b[0;34m\u001b[0m\u001b[0m\n",
            "\u001b[0;32m/usr/local/lib/python3.9/dist-packages/transformers/generation/utils.py\u001b[0m in \u001b[0;36mgenerate\u001b[0;34m(self, inputs, generation_config, logits_processor, stopping_criteria, prefix_allowed_tokens_fn, synced_gpus, **kwargs)\u001b[0m\n\u001b[1;32m   1209\u001b[0m \u001b[0;34m\u001b[0m\u001b[0m\n\u001b[1;32m   1210\u001b[0m         \u001b[0mgeneration_config\u001b[0m \u001b[0;34m=\u001b[0m \u001b[0mcopy\u001b[0m\u001b[0;34m.\u001b[0m\u001b[0mdeepcopy\u001b[0m\u001b[0;34m(\u001b[0m\u001b[0mgeneration_config\u001b[0m\u001b[0;34m)\u001b[0m\u001b[0;34m\u001b[0m\u001b[0;34m\u001b[0m\u001b[0m\n\u001b[0;32m-> 1211\u001b[0;31m         \u001b[0mmodel_kwargs\u001b[0m \u001b[0;34m=\u001b[0m \u001b[0mgeneration_config\u001b[0m\u001b[0;34m.\u001b[0m\u001b[0mupdate\u001b[0m\u001b[0;34m(\u001b[0m\u001b[0;34m**\u001b[0m\u001b[0mkwargs\u001b[0m\u001b[0;34m)\u001b[0m  \u001b[0;31m# All unused kwargs must be model kwargs\u001b[0m\u001b[0;34m\u001b[0m\u001b[0;34m\u001b[0m\u001b[0m\n\u001b[0m\u001b[1;32m   1212\u001b[0m         \u001b[0mgeneration_config\u001b[0m\u001b[0;34m.\u001b[0m\u001b[0mvalidate\u001b[0m\u001b[0;34m(\u001b[0m\u001b[0;34m)\u001b[0m\u001b[0;34m\u001b[0m\u001b[0;34m\u001b[0m\u001b[0m\n\u001b[1;32m   1213\u001b[0m         \u001b[0mself\u001b[0m\u001b[0;34m.\u001b[0m\u001b[0m_validate_model_kwargs\u001b[0m\u001b[0;34m(\u001b[0m\u001b[0mmodel_kwargs\u001b[0m\u001b[0;34m.\u001b[0m\u001b[0mcopy\u001b[0m\u001b[0;34m(\u001b[0m\u001b[0;34m)\u001b[0m\u001b[0;34m)\u001b[0m\u001b[0;34m\u001b[0m\u001b[0;34m\u001b[0m\u001b[0m\n",
            "\u001b[0;31mAttributeError\u001b[0m: 'Tensor' object has no attribute 'update'"
          ]
        }
      ],
      "source": [
        "model.generate(\"oh\", pixel_values)"
      ],
      "id": "OnCgnW2JVHb_"
    }
  ],
  "metadata": {
    "colab": {
      "provenance": []
    },
    "kernelspec": {
      "display_name": "Python 3",
      "language": "python",
      "name": "python3"
    },
    "language_info": {
      "codemirror_mode": {
        "name": "ipython",
        "version": 3
      },
      "file_extension": ".py",
      "mimetype": "text/x-python",
      "name": "python",
      "nbconvert_exporter": "python",
      "pygments_lexer": "ipython3",
      "version": "3.8.8"
    }
  },
  "nbformat": 4,
  "nbformat_minor": 5
}