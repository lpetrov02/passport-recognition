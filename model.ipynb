{
  "cells": [
    {
      "cell_type": "code",
      "execution_count": 1,
      "metadata": {
        "id": "z83kfSoDlTCO"
      },
      "outputs": [],
      "source": [
        "import cv2\n",
        "import numpy as np\n",
        "import pandas as pd\n",
        "import scipy.stats as ss\n",
        "import matplotlib.pyplot as plt\n",
        "\n",
        "\n",
        "import torch\n",
        "import torch.nn as nn\n",
        "import torch.nn.functional as F\n",
        "import torch.optim as optim\n",
        "from torch.autograd import Variable\n",
        "import torch.utils.data as data\n",
        "\n",
        "import scipy.stats as ss\n",
        "\n",
        "import torchvision.transforms as transforms\n",
        "import torchvision.datasets as datasets\n",
        "\n",
        "from sklearn import metrics\n",
        "from sklearn import decomposition\n",
        "from sklearn import manifold\n",
        "from tqdm.notebook import trange, tqdm\n",
        "\n",
        "from PIL import Image, ImageDraw, ImageFont\n",
        "import PIL\n",
        "\n",
        "import os\n",
        "\n",
        "import copy\n",
        "import random\n",
        "import time\n",
        "\n",
        "import tracemalloc\n",
        "\n",
        "%matplotlib inline"
      ],
      "id": "z83kfSoDlTCO"
    },
    {
      "cell_type": "code",
      "execution_count": 2,
      "metadata": {
        "id": "DBPvy8BQlcUC",
        "colab": {
          "base_uri": "https://localhost:8080/"
        },
        "outputId": "1b9f9011-16af-445a-a2fb-0f478af36514"
      },
      "outputs": [
        {
          "output_type": "stream",
          "name": "stdout",
          "text": [
            "Mounted at ./data\n"
          ]
        }
      ],
      "source": [
        "from google.colab import drive\n",
        "drive.mount('./data')"
      ],
      "id": "DBPvy8BQlcUC"
    },
    {
      "cell_type": "code",
      "execution_count": 3,
      "metadata": {
        "id": "qDb643XG-I2U"
      },
      "outputs": [],
      "source": [
        "!cp /content/data/MyDrive/ColabNotebooks/Doc_recognition/Passports/pre_train.py /content\n",
        "!cp /content/data/MyDrive/ColabNotebooks/Doc_recognition/Passports/models.py /content"
      ],
      "id": "qDb643XG-I2U"
    },
    {
      "cell_type": "code",
      "execution_count": 4,
      "metadata": {
        "id": "aBw8RGWcmmMR",
        "colab": {
          "base_uri": "https://localhost:8080/"
        },
        "outputId": "5a87ece9-1b75-456b-9f16-8b4e8d89d396"
      },
      "outputs": [
        {
          "output_type": "stream",
          "name": "stdout",
          "text": [
            "/content/data/MyDrive/ColabNotebooks/Doc_recognition/Passports\n"
          ]
        }
      ],
      "source": [
        "cd data/MyDrive/ColabNotebooks/Doc_recognition/Passports/"
      ],
      "id": "aBw8RGWcmmMR"
    },
    {
      "cell_type": "code",
      "execution_count": 5,
      "metadata": {
        "id": "ysPSb6S1m3v8"
      },
      "outputs": [],
      "source": [
        "images = os.listdir(\"dataset/images\")"
      ],
      "id": "ysPSb6S1m3v8"
    },
    {
      "cell_type": "code",
      "execution_count": 6,
      "metadata": {
        "id": "uw4h5NoHoWws",
        "colab": {
          "base_uri": "https://localhost:8080/",
          "height": 595
        },
        "outputId": "5aaacbc6-b1b8-4eed-bbc4-673e838d1cb4"
      },
      "outputs": [
        {
          "output_type": "execute_result",
          "data": {
            "text/plain": [
              "   Unnamed: 0      file_name    H    W  channels  \\\n",
              "0           0  passport0.jpg  731  522         3   \n",
              "1           1  passport1.jpg  731  522         3   \n",
              "2           2  passport2.jpg  731  522         3   \n",
              "3           3  passport3.jpg  731  522         3   \n",
              "4           4  passport4.jpg  731  522         3   \n",
              "\n",
              "                                          department  \\\n",
              "0     ЛЕСНЫМ ОМ ВЕРХНЕКАМСКОГО РАЙОНА КИРОВСКОЙ ОБЛ.   \n",
              "1     БУТКИНСКИМ ОМ ТАЛИЦКОГО РОВД СВЕРДЛОВСКОЙ ОБЛ.   \n",
              "2  МП УФМС РОССИИ ПО САМАРСКОЙ ОБЛ. В БОЛЬШЕГЛУШИ...   \n",
              "3  СЛАВЯНСКИМ ОВД КРАСНОДАРСКОГО КРАЯ Самой Прекр...   \n",
              "4  ОТДЕЛОМ УФМС РОССИИ ПО ЧЕЛЯБИНСКОЙ ОБЛ. В Г. К...   \n",
              "\n",
              "                        department1                           department2  \\\n",
              "0   ЛЕСНЫМ ОМ ВЕРХНЕКАМСКОГО РАЙОНА                        КИРОВСКОЙ ОБЛ.   \n",
              "1      БУТКИНСКИМ ОМ ТАЛИЦКОГО РОВД                     СВЕРДЛОВСКОЙ ОБЛ.   \n",
              "2  МП УФМС РОССИИ ПО САМАРСКОЙ ОБЛ.    В БОЛЬШЕГЛУШИЦКОМ РАЙОНЕ Прекраной   \n",
              "3     СЛАВЯНСКИМ ОВД КРАСНОДАРСКОГО  КРАЯ Самой Прекраной России двадцать   \n",
              "4            ОТДЕЛОМ УФМС РОССИИ ПО         ЧЕЛЯБИНСКОЙ ОБЛ. В Г. КАРТАЛЫ   \n",
              "\n",
              "     department3 passport_date  ... birth_place3-bottom-right-x  \\\n",
              "0            NaN    27.09.2018  ...                        -1.0   \n",
              "1            NaN    15.08.2021  ...                        -1.0   \n",
              "2  страны России    06.01.2022  ...                        -1.0   \n",
              "3   первого века    02.12.2018  ...                        -1.0   \n",
              "4            NaN    06.02.1992  ...                        -1.0   \n",
              "\n",
              "  birth_place3-bottom-right-y up-left-x up-left-y up-right-x up-right-y  \\\n",
              "0                        -1.0      22.0     430.0      168.0      430.0   \n",
              "1                        -1.0      22.0     430.0      168.0      430.0   \n",
              "2                        -1.0      22.0     430.0      168.0      430.0   \n",
              "3                        -1.0      22.0     430.0      168.0      430.0   \n",
              "4                        -1.0      22.0     430.0      168.0      430.0   \n",
              "\n",
              "  bottom-left-x bottom-left-y bottom-right-x bottom-right-y  \n",
              "0          22.0         618.0          168.0          618.0  \n",
              "1          22.0         618.0          168.0          618.0  \n",
              "2          22.0         618.0          168.0          618.0  \n",
              "3          22.0         618.0          168.0          618.0  \n",
              "4          22.0         618.0          168.0          618.0  \n",
              "\n",
              "[5 rows x 86 columns]"
            ],
            "text/html": [
              "\n",
              "  <div id=\"df-3178b4df-25ad-4dce-85e5-55cc3f2a0375\">\n",
              "    <div class=\"colab-df-container\">\n",
              "      <div>\n",
              "<style scoped>\n",
              "    .dataframe tbody tr th:only-of-type {\n",
              "        vertical-align: middle;\n",
              "    }\n",
              "\n",
              "    .dataframe tbody tr th {\n",
              "        vertical-align: top;\n",
              "    }\n",
              "\n",
              "    .dataframe thead th {\n",
              "        text-align: right;\n",
              "    }\n",
              "</style>\n",
              "<table border=\"1\" class=\"dataframe\">\n",
              "  <thead>\n",
              "    <tr style=\"text-align: right;\">\n",
              "      <th></th>\n",
              "      <th>Unnamed: 0</th>\n",
              "      <th>file_name</th>\n",
              "      <th>H</th>\n",
              "      <th>W</th>\n",
              "      <th>channels</th>\n",
              "      <th>department</th>\n",
              "      <th>department1</th>\n",
              "      <th>department2</th>\n",
              "      <th>department3</th>\n",
              "      <th>passport_date</th>\n",
              "      <th>...</th>\n",
              "      <th>birth_place3-bottom-right-x</th>\n",
              "      <th>birth_place3-bottom-right-y</th>\n",
              "      <th>up-left-x</th>\n",
              "      <th>up-left-y</th>\n",
              "      <th>up-right-x</th>\n",
              "      <th>up-right-y</th>\n",
              "      <th>bottom-left-x</th>\n",
              "      <th>bottom-left-y</th>\n",
              "      <th>bottom-right-x</th>\n",
              "      <th>bottom-right-y</th>\n",
              "    </tr>\n",
              "  </thead>\n",
              "  <tbody>\n",
              "    <tr>\n",
              "      <th>0</th>\n",
              "      <td>0</td>\n",
              "      <td>passport0.jpg</td>\n",
              "      <td>731</td>\n",
              "      <td>522</td>\n",
              "      <td>3</td>\n",
              "      <td>ЛЕСНЫМ ОМ ВЕРХНЕКАМСКОГО РАЙОНА КИРОВСКОЙ ОБЛ.</td>\n",
              "      <td>ЛЕСНЫМ ОМ ВЕРХНЕКАМСКОГО РАЙОНА</td>\n",
              "      <td>КИРОВСКОЙ ОБЛ.</td>\n",
              "      <td>NaN</td>\n",
              "      <td>27.09.2018</td>\n",
              "      <td>...</td>\n",
              "      <td>-1.0</td>\n",
              "      <td>-1.0</td>\n",
              "      <td>22.0</td>\n",
              "      <td>430.0</td>\n",
              "      <td>168.0</td>\n",
              "      <td>430.0</td>\n",
              "      <td>22.0</td>\n",
              "      <td>618.0</td>\n",
              "      <td>168.0</td>\n",
              "      <td>618.0</td>\n",
              "    </tr>\n",
              "    <tr>\n",
              "      <th>1</th>\n",
              "      <td>1</td>\n",
              "      <td>passport1.jpg</td>\n",
              "      <td>731</td>\n",
              "      <td>522</td>\n",
              "      <td>3</td>\n",
              "      <td>БУТКИНСКИМ ОМ ТАЛИЦКОГО РОВД СВЕРДЛОВСКОЙ ОБЛ.</td>\n",
              "      <td>БУТКИНСКИМ ОМ ТАЛИЦКОГО РОВД</td>\n",
              "      <td>СВЕРДЛОВСКОЙ ОБЛ.</td>\n",
              "      <td>NaN</td>\n",
              "      <td>15.08.2021</td>\n",
              "      <td>...</td>\n",
              "      <td>-1.0</td>\n",
              "      <td>-1.0</td>\n",
              "      <td>22.0</td>\n",
              "      <td>430.0</td>\n",
              "      <td>168.0</td>\n",
              "      <td>430.0</td>\n",
              "      <td>22.0</td>\n",
              "      <td>618.0</td>\n",
              "      <td>168.0</td>\n",
              "      <td>618.0</td>\n",
              "    </tr>\n",
              "    <tr>\n",
              "      <th>2</th>\n",
              "      <td>2</td>\n",
              "      <td>passport2.jpg</td>\n",
              "      <td>731</td>\n",
              "      <td>522</td>\n",
              "      <td>3</td>\n",
              "      <td>МП УФМС РОССИИ ПО САМАРСКОЙ ОБЛ. В БОЛЬШЕГЛУШИ...</td>\n",
              "      <td>МП УФМС РОССИИ ПО САМАРСКОЙ ОБЛ.</td>\n",
              "      <td>В БОЛЬШЕГЛУШИЦКОМ РАЙОНЕ Прекраной</td>\n",
              "      <td>страны России</td>\n",
              "      <td>06.01.2022</td>\n",
              "      <td>...</td>\n",
              "      <td>-1.0</td>\n",
              "      <td>-1.0</td>\n",
              "      <td>22.0</td>\n",
              "      <td>430.0</td>\n",
              "      <td>168.0</td>\n",
              "      <td>430.0</td>\n",
              "      <td>22.0</td>\n",
              "      <td>618.0</td>\n",
              "      <td>168.0</td>\n",
              "      <td>618.0</td>\n",
              "    </tr>\n",
              "    <tr>\n",
              "      <th>3</th>\n",
              "      <td>3</td>\n",
              "      <td>passport3.jpg</td>\n",
              "      <td>731</td>\n",
              "      <td>522</td>\n",
              "      <td>3</td>\n",
              "      <td>СЛАВЯНСКИМ ОВД КРАСНОДАРСКОГО КРАЯ Самой Прекр...</td>\n",
              "      <td>СЛАВЯНСКИМ ОВД КРАСНОДАРСКОГО</td>\n",
              "      <td>КРАЯ Самой Прекраной России двадцать</td>\n",
              "      <td>первого века</td>\n",
              "      <td>02.12.2018</td>\n",
              "      <td>...</td>\n",
              "      <td>-1.0</td>\n",
              "      <td>-1.0</td>\n",
              "      <td>22.0</td>\n",
              "      <td>430.0</td>\n",
              "      <td>168.0</td>\n",
              "      <td>430.0</td>\n",
              "      <td>22.0</td>\n",
              "      <td>618.0</td>\n",
              "      <td>168.0</td>\n",
              "      <td>618.0</td>\n",
              "    </tr>\n",
              "    <tr>\n",
              "      <th>4</th>\n",
              "      <td>4</td>\n",
              "      <td>passport4.jpg</td>\n",
              "      <td>731</td>\n",
              "      <td>522</td>\n",
              "      <td>3</td>\n",
              "      <td>ОТДЕЛОМ УФМС РОССИИ ПО ЧЕЛЯБИНСКОЙ ОБЛ. В Г. К...</td>\n",
              "      <td>ОТДЕЛОМ УФМС РОССИИ ПО</td>\n",
              "      <td>ЧЕЛЯБИНСКОЙ ОБЛ. В Г. КАРТАЛЫ</td>\n",
              "      <td>NaN</td>\n",
              "      <td>06.02.1992</td>\n",
              "      <td>...</td>\n",
              "      <td>-1.0</td>\n",
              "      <td>-1.0</td>\n",
              "      <td>22.0</td>\n",
              "      <td>430.0</td>\n",
              "      <td>168.0</td>\n",
              "      <td>430.0</td>\n",
              "      <td>22.0</td>\n",
              "      <td>618.0</td>\n",
              "      <td>168.0</td>\n",
              "      <td>618.0</td>\n",
              "    </tr>\n",
              "  </tbody>\n",
              "</table>\n",
              "<p>5 rows × 86 columns</p>\n",
              "</div>\n",
              "      <button class=\"colab-df-convert\" onclick=\"convertToInteractive('df-3178b4df-25ad-4dce-85e5-55cc3f2a0375')\"\n",
              "              title=\"Convert this dataframe to an interactive table.\"\n",
              "              style=\"display:none;\">\n",
              "        \n",
              "  <svg xmlns=\"http://www.w3.org/2000/svg\" height=\"24px\"viewBox=\"0 0 24 24\"\n",
              "       width=\"24px\">\n",
              "    <path d=\"M0 0h24v24H0V0z\" fill=\"none\"/>\n",
              "    <path d=\"M18.56 5.44l.94 2.06.94-2.06 2.06-.94-2.06-.94-.94-2.06-.94 2.06-2.06.94zm-11 1L8.5 8.5l.94-2.06 2.06-.94-2.06-.94L8.5 2.5l-.94 2.06-2.06.94zm10 10l.94 2.06.94-2.06 2.06-.94-2.06-.94-.94-2.06-.94 2.06-2.06.94z\"/><path d=\"M17.41 7.96l-1.37-1.37c-.4-.4-.92-.59-1.43-.59-.52 0-1.04.2-1.43.59L10.3 9.45l-7.72 7.72c-.78.78-.78 2.05 0 2.83L4 21.41c.39.39.9.59 1.41.59.51 0 1.02-.2 1.41-.59l7.78-7.78 2.81-2.81c.8-.78.8-2.07 0-2.86zM5.41 20L4 18.59l7.72-7.72 1.47 1.35L5.41 20z\"/>\n",
              "  </svg>\n",
              "      </button>\n",
              "      \n",
              "  <style>\n",
              "    .colab-df-container {\n",
              "      display:flex;\n",
              "      flex-wrap:wrap;\n",
              "      gap: 12px;\n",
              "    }\n",
              "\n",
              "    .colab-df-convert {\n",
              "      background-color: #E8F0FE;\n",
              "      border: none;\n",
              "      border-radius: 50%;\n",
              "      cursor: pointer;\n",
              "      display: none;\n",
              "      fill: #1967D2;\n",
              "      height: 32px;\n",
              "      padding: 0 0 0 0;\n",
              "      width: 32px;\n",
              "    }\n",
              "\n",
              "    .colab-df-convert:hover {\n",
              "      background-color: #E2EBFA;\n",
              "      box-shadow: 0px 1px 2px rgba(60, 64, 67, 0.3), 0px 1px 3px 1px rgba(60, 64, 67, 0.15);\n",
              "      fill: #174EA6;\n",
              "    }\n",
              "\n",
              "    [theme=dark] .colab-df-convert {\n",
              "      background-color: #3B4455;\n",
              "      fill: #D2E3FC;\n",
              "    }\n",
              "\n",
              "    [theme=dark] .colab-df-convert:hover {\n",
              "      background-color: #434B5C;\n",
              "      box-shadow: 0px 1px 3px 1px rgba(0, 0, 0, 0.15);\n",
              "      filter: drop-shadow(0px 1px 2px rgba(0, 0, 0, 0.3));\n",
              "      fill: #FFFFFF;\n",
              "    }\n",
              "  </style>\n",
              "\n",
              "      <script>\n",
              "        const buttonEl =\n",
              "          document.querySelector('#df-3178b4df-25ad-4dce-85e5-55cc3f2a0375 button.colab-df-convert');\n",
              "        buttonEl.style.display =\n",
              "          google.colab.kernel.accessAllowed ? 'block' : 'none';\n",
              "\n",
              "        async function convertToInteractive(key) {\n",
              "          const element = document.querySelector('#df-3178b4df-25ad-4dce-85e5-55cc3f2a0375');\n",
              "          const dataTable =\n",
              "            await google.colab.kernel.invokeFunction('convertToInteractive',\n",
              "                                                     [key], {});\n",
              "          if (!dataTable) return;\n",
              "\n",
              "          const docLinkHtml = 'Like what you see? Visit the ' +\n",
              "            '<a target=\"_blank\" href=https://colab.research.google.com/notebooks/data_table.ipynb>data table notebook</a>'\n",
              "            + ' to learn more about interactive tables.';\n",
              "          element.innerHTML = '';\n",
              "          dataTable['output_type'] = 'display_data';\n",
              "          await google.colab.output.renderOutput(dataTable, element);\n",
              "          const docLink = document.createElement('div');\n",
              "          docLink.innerHTML = docLinkHtml;\n",
              "          element.appendChild(docLink);\n",
              "        }\n",
              "      </script>\n",
              "    </div>\n",
              "  </div>\n",
              "  "
            ]
          },
          "metadata": {},
          "execution_count": 6
        }
      ],
      "source": [
        "data = pd.read_csv(\"dataset/Passports.csv\")\n",
        "data.head()"
      ],
      "id": "uw4h5NoHoWws"
    },
    {
      "cell_type": "code",
      "execution_count": 7,
      "metadata": {
        "id": "wOyPUU4ro6cG"
      },
      "outputs": [],
      "source": [
        "from torch.utils.data import Dataset\n",
        "from torch.utils.data import DataLoader"
      ],
      "id": "wOyPUU4ro6cG"
    },
    {
      "cell_type": "code",
      "execution_count": 8,
      "metadata": {
        "id": "apwQ2TGjqoI9"
      },
      "outputs": [],
      "source": [
        "classes = ['department1', 'department2', 'department3', 'passport_date', 'code', 'surname1', 'surname2', 'name', 'patron', 'sex', 'birthday', 'birth_place1', 'birth_place2', 'birth_place3', 'photo']\n",
        "classes.append('blank')\n",
        "coord_cols = np.array([col for col in np.hstack([data.columns[:-6], data.columns[-2:]]) if col[-2:] in (\"-x\", \"-y\")]).reshape(-1, 4)\n",
        "# classes, coord_cols"
      ],
      "id": "apwQ2TGjqoI9"
    },
    {
      "cell_type": "markdown",
      "metadata": {
        "id": "5_CCxSNwSqL2"
      },
      "source": [
        "## Датасет и даталоадер\n",
        "Первая часть модели отвечает за нахождение региончиков с текстом.  \n",
        "Происходит патчевая классификация. То есть таргет для картинки - это 2d тензор размера *\\[H/P, W/P\\]*, где для каждого патча выставлен класс, к которому от относится.  \n",
        "Классов всего 16: 14 видов текстовых полей + *'photo'* + *'blank'*"
      ],
      "id": "5_CCxSNwSqL2"
    },
    {
      "cell_type": "code",
      "execution_count": 9,
      "metadata": {
        "id": "9DDUuYCkpO41"
      },
      "outputs": [],
      "source": [
        "class PassportDataset(Dataset):\n",
        "    def __init__(self, pd_table, img_dir, w=320, h=640, p=4, from_=-1, to_=-1):\n",
        "        \"\"\"\n",
        "        pd_table - path to the dataset\n",
        "        img_dir - directory with passport images\n",
        "        w, h - the desirable size of the image (to resize)\n",
        "        p - patch size\n",
        "        from_, to_ - set them to take a part of a dataset, not the whole\n",
        "        \"\"\"\n",
        "        self.from_ = from_\n",
        "        self.data = pd.read_csv(pd_table)\n",
        "        if from_ != -1 and to_ != -1:\n",
        "            self.data = self.data[from_: to_]\n",
        "        classes = ['blank'] + [\n",
        "            'department1', 'department2', 'department3', 'passport_date', 'code', 'surname1', 'surname2', \n",
        "            'name', 'patron', 'sex', 'birthday', 'birth_place1', 'birth_place2', 'birth_place3', 'photo'\n",
        "        ]\n",
        "        self.classes = np.array(classes)\n",
        "        self.class2id = {cls: i for i, cls in enumerate(self.classes)}\n",
        "        self.coord_cols = np.array([col for col in np.hstack([self.data.columns[:-6], self.data.columns[-2:]]) if col[-2:] in (\"-x\", \"-y\")])\n",
        "\n",
        "        self.img_dir = img_dir\n",
        "        self.transforms = transforms.Compose([\n",
        "                transforms.ToTensor()\n",
        "            ])\n",
        "        self.p = p\n",
        "        self.shape = (w, h)  # shape: x, y - for PIL image\n",
        "        self.pshape = (h // p, w // p)  # sape: y, x - for torch.tensor\n",
        "\n",
        "    def __len__(self):\n",
        "        return len(self.data)\n",
        "\n",
        "    def __getitem__(self, idx):\n",
        "        idx += self.from_\n",
        "        image = PIL.Image.open(f\"{self.img_dir}/{self.data.loc[idx, 'file_name']}\").resize(self.shape)\n",
        "        H, W = self.data.loc[idx, [\"H\", \"W\"]]\n",
        "        mw, mh = self.shape[0] / W, self.shape[1] / H  # mult-W, mult-H\n",
        "        tensor = self.transforms(np.array(image))\n",
        "        del image\n",
        "        \n",
        "        fields_coords = np.array(self.data.loc[idx, self.coord_cols]).astype(np.float32).reshape(-1, 4)\n",
        "        fields_coords[:, 0::2] *= mw\n",
        "        fields_coords[:, 1::2] *= mh\n",
        "\n",
        "        labels = torch.zeros(self.pshape)\n",
        "\n",
        "        def top_left(x):\n",
        "            return int(np.floor(x / self.p))\n",
        "        \n",
        "        def bottom_right(x):\n",
        "            return int(np.ceil(x / self.p))\n",
        "\n",
        "\n",
        "        # class_dct = {0: 1, 1: 1, 2: 1, 3: 2, 4: 3, 5: 4, 6: 4, 7: 5, 8: 6, 9: 7, 10: 8, 11: 9, 12: 9, 13: 9, 14: 10}\n",
        "        for k in range(len(fields_coords)):\n",
        "            coords = fields_coords[k]\n",
        "            if coords[0] == -1:\n",
        "                continue\n",
        "            labels[top_left(coords[1]): bottom_right(coords[3]), top_left(coords[0]): bottom_right(coords[2])] = k + 1  # class_dct[k]\n",
        "\n",
        "        return tensor, labels.long()"
      ],
      "id": "9DDUuYCkpO41"
    },
    {
      "cell_type": "code",
      "execution_count": 10,
      "metadata": {
        "id": "HkgACWng2bCl"
      },
      "outputs": [],
      "source": [
        "\n",
        "train_data = PassportDataset(\"dataset/Passports.csv\", \"dataset/images\", p=8, from_=0, to_=800)\n",
        "test_data = PassportDataset(\"dataset/Passports.csv\", \"dataset/images\", p=8, from_=800, to_=1000)"
      ],
      "id": "HkgACWng2bCl"
    },
    {
      "cell_type": "code",
      "source": [
        "x, y = train_data[0]\n",
        "y = y.flatten()\n",
        "torch.unique(y, return_counts=True)"
      ],
      "metadata": {
        "id": "0l_U0gZd2Sj9",
        "colab": {
          "base_uri": "https://localhost:8080/"
        },
        "outputId": "199b2a89-7c0c-4319-d72d-ad3eb8e76f29"
      },
      "id": "0l_U0gZd2Sj9",
      "execution_count": 11,
      "outputs": [
        {
          "output_type": "execute_result",
          "data": {
            "text/plain": [
              "(tensor([ 0,  1,  2,  4,  5,  6,  8,  9, 10, 11, 12, 15]),\n",
              " tensor([2628,   81,   39,   16,   18,   64,   18,   27,   12,   24,   21,  252]))"
            ]
          },
          "metadata": {},
          "execution_count": 11
        }
      ]
    },
    {
      "cell_type": "code",
      "execution_count": 12,
      "metadata": {
        "id": "-Lx7_UcN2Pwa"
      },
      "outputs": [],
      "source": [
        "train_dataloader = DataLoader(train_data, batch_size=32, shuffle=True)\n",
        "test_dataloader = DataLoader(test_data, batch_size=32, shuffle=True)"
      ],
      "id": "-Lx7_UcN2Pwa"
    },
    {
      "cell_type": "markdown",
      "metadata": {
        "id": "scelDZRexYYr"
      },
      "source": [
        "## Patch embeddings"
      ],
      "id": "scelDZRexYYr"
    },
    {
      "cell_type": "code",
      "execution_count": 13,
      "metadata": {
        "id": "TiRY4U4xxbbd"
      },
      "outputs": [],
      "source": [
        "class TwoConvLayer(nn.Module):\n",
        "    \"\"\"\n",
        "    Special embedding layer.\n",
        "    Takes a patch C x H x W\n",
        "    Applies a convolution -> 1 x H' x W'\n",
        "    Flattens -> H'W'\n",
        "    Applies a linear layer to embed size\n",
        "    \"\"\"\n",
        "    def __init__(self, out_size, h, w, c=3, hidden_size=3, kernel_size=3):\n",
        "        super().__init__()\n",
        "        self.layers = nn.Sequential(\n",
        "            nn.Conv2d(c, hidden_size, kernel_size=kernel_size),\n",
        "            nn.LayerNorm([hidden_size, h - kernel_size + 1, w - kernel_size + 1]),\n",
        "            nn.Dropout(),\n",
        "            nn.Conv2d(hidden_size, out_size, kernel_size=(h - kernel_size + 1, w - kernel_size + 1)),\n",
        "        )\n",
        "\n",
        "    def forward(self, x):\n",
        "        return self.layers(x)\n",
        "\n",
        "\n",
        "class NConvLayer(nn.Module):\n",
        "    \"\"\"\n",
        "    Special embedding layer.\n",
        "    Takes a patch C x H x W\n",
        "    Applies a convolution -> 1 x H' x W'\n",
        "    Flattens -> H'W'\n",
        "    Applies a linear layer to embed size\n",
        "    \"\"\"\n",
        "    def __init__(self, N, out_size, h, w, c=3, hidden_size=3, kernel_size=3):\n",
        "        assert N > 2\n",
        "        if type(hidden_size) == list:\n",
        "            assert len(hidden_size) == N - 1\n",
        "            hidden_size = [c] + hidden_size\n",
        "        else:\n",
        "            hidden_size = [c] + [hidden_size for _ in range(N - 1)]\n",
        "\n",
        "        super().__init__()\n",
        "\n",
        "        self.first_conv_layers = nn.ModuleList([\n",
        "            nn.Sequential(\n",
        "                nn.Conv2d(hidden_size[i - 1], hidden_size[i], kernel_size=3, padding=1),\n",
        "                nn.LayerNorm([hidden_size[i], h, w]),\n",
        "                nn.Dropout(),\n",
        "            ) for i in range(1, len(hidden_size) - 1)\n",
        "        ])\n",
        "        self.pre_last_layer = nn.Sequential(\n",
        "            nn.Conv2d(hidden_size[-2], hidden_size[-1], kernel_size=kernel_size),\n",
        "            nn.LayerNorm([hidden_size[-1], h - kernel_size + 1, w - kernel_size + 1]),\n",
        "            nn.Dropout(),\n",
        "        )\n",
        "        self.final_layer = nn.Conv2d(hidden_size[-1], out_size, kernel_size=(h - kernel_size + 1, w - kernel_size + 1))\n",
        "\n",
        "    def forward(self, x):\n",
        "        for layer in self.first_conv_layers:\n",
        "            x = layer(x)\n",
        "        x = self.pre_last_layer(x)\n",
        "        return self.final_layer(x)\n",
        "\n",
        "    \n",
        "class SimplePatchEmbedding(nn.Module):\n",
        "    def __init__(self, h, w, patch_size=8, patch_embed_size=8, input_channels=3):\n",
        "        assert w % patch_size == 0 and h % patch_size == 0\n",
        "        super().__init__()\n",
        "        self.h, self.w = h, w\n",
        "        self.layers = nn.Sequential(\n",
        "            nn.Conv2d(input_channels, patch_embed_size, kernel_size=patch_size, stride=patch_size),\n",
        "            nn.LayerNorm([patch_embed_size, h // patch_size, w // patch_size]),\n",
        "        )\n",
        "\n",
        "    def forward(self, x):\n",
        "        n_dims = len(x.shape)\n",
        "        assert x.shape[3 - int(n_dims == 3)] == self.w and x.shape[2 - int(n_dims == 3)]\n",
        "        return self.layers(x)\n",
        "\n",
        "    \n",
        "class NConvPatchEmbedding(nn.Module):\n",
        "    def __init__(self, N, h, w, patch_size=8, patch_embed_size=8, input_channels=3, hidden_size=3, final_kernel_size=3):\n",
        "        \"\"\"\n",
        "        w, h - size of an input image, in pixels - is needed to know the number of linear/conv layers\n",
        "        \"\"\"\n",
        "        assert w % patch_size == 0 and h % patch_size == 0\n",
        "        super().__init__()\n",
        "\n",
        "        self.p = patch_size\n",
        "        self.patch_embed_size = patch_embed_size\n",
        "        self.w, self.h = w, h\n",
        "        self.layer = NConvLayer(N, self.patch_embed_size, self.p, self.p, c=input_channels, hidden_size=hidden_size, kernel_size=final_kernel_size)\n",
        "        self.wp, self.hp = self.w // self.p, self.h // self.p\n",
        "\n",
        "    def forward(self, x):\n",
        "        n_dims = len(x.shape)\n",
        "        if n_dims == 3:\n",
        "            x = x[None, :, :, :]  # Make batch if no batch\n",
        "        assert x.shape[2] == self.h and x.shape[3] == self.w\n",
        "\n",
        "        batch_size = x.shape[0]\n",
        "\n",
        "        embedded = []\n",
        "        for j in range(self.hp):\n",
        "            for i in range(self.wp):\n",
        "                x_patch = x[:, :, self.p * j: self.p * (j + 1), self.p * i: self.p * (i + 1)]\n",
        "                embedded.append(self.layer(x_patch)[:, None, :])\n",
        "        embedded = torch.stack(embedded, dim=1).reshape(batch_size, self.hp, self.wp, self.patch_embed_size).transpose(2, 3).transpose(1, 2)\n",
        "\n",
        "        return embedded if n_dims == 4 else embedded[0]\n",
        "\n",
        "\n",
        "class HeavyPatchEmbedding(nn.Module):\n",
        "    def __init__(self, h, w, patch_size=8, patch_embed_size=8, input_channels=3, embed_type='linear'):\n",
        "        \"\"\"\n",
        "        embed_size - size of embedding vectors\n",
        "        pathc_size - size of a patch in pixels\n",
        "        embed_type - one of ['linear', 'conv', '2conv']\n",
        "        w, h - size of an input image, in pixels - is needed to know the number of linear/conv layers\n",
        "        \"\"\"\n",
        "        assert w % patch_size == 0 and h % patch_size == 0\n",
        "\n",
        "        super().__init__()\n",
        "\n",
        "        self.device = device\n",
        "        self.embed_size = patch_embed_size\n",
        "        self.p = patch_size\n",
        "        self.w, self.h, self.c = w, h, input_channels\n",
        "        self.wp, self.hp = self.w // self.p, self.h // self.p\n",
        "        self.embed_type = embed_type\n",
        "\n",
        "        if self.embed_type == 'linear':\n",
        "            self.layers = nn.ModuleList([nn.Linear(self.p ** 2 * self.c, self.embed_size) for _ in range(self.wp * self.hp)])\n",
        "        elif self.embed_type == 'conv':\n",
        "            self.layers = nn.ModuleList([nn.Conv2d(self.c, self.embed_size, kernel_size=self.p) for _ in range(self.wp * self.hp)])\n",
        "        elif self.embed_type == '2conv':\n",
        "            self.layers = nn.ModuleList([TwoConvLayer(self.embed_size, self.p, self.p) for _ in range(self.wp * self.hp)])\n",
        "        else:\n",
        "            raise ValueError(\"embed_type should be one of 'linear', 'conv', '2conv'\")\n",
        "\n",
        "    def forward(self, x):\n",
        "        n_dims = len(x.shape)\n",
        "        if n_dims == 3:\n",
        "            x = x[None, :, :, :]  # Make batch if no batch\n",
        "        assert x.shape[2] == self.h and x.shape[3] == self.w\n",
        "\n",
        "        batch_size = x.shape[0]\n",
        "\n",
        "        embedded = []\n",
        "        for j in range(self.hp):\n",
        "            for i in range(self.wp):\n",
        "                x_patch = x[:, :, self.p * j: self.p * (j + 1), self.p * i: self.p * (i + 1)]\n",
        "                if self.embed_type == 'linear':\n",
        "                    x_patch = x_patch.flatten(1, -1)\n",
        "                embedded.append(self.layers[self.wp * j + i](x_patch)[:, None, :])\n",
        "        embedded = torch.stack(embedded, dim=1).reshape(batch_size, self.hp, self.wp, self.embed_size).transpose(2, 3).transpose(1, 2)\n",
        "\n",
        "        return embedded if n_dims == 4 else embedded[0]\n"
      ],
      "id": "TiRY4U4xxbbd"
    },
    {
      "cell_type": "markdown",
      "metadata": {
        "id": "axJcEHwL7J8u"
      },
      "source": [
        "## Model"
      ],
      "id": "axJcEHwL7J8u"
    },
    {
      "cell_type": "code",
      "execution_count": 14,
      "metadata": {
        "id": "HSdw2SkT7NjT"
      },
      "outputs": [],
      "source": [
        "class PassportRecognizer(nn.Module):\n",
        "    \"\"\"\n",
        "    На вход принимается картинка HxW\n",
        "    После patch embedding будет размер (H/p)x(W/p)\n",
        "    \"\"\"\n",
        "\n",
        "    def pos_embedding(self):\n",
        "        x = torch.tensor([list(range(self.WP)) for _ in range(self.HP)]) / self.WP\n",
        "        y = torch.tensor([list(range(self.HP)) for _ in range(self.WP)]).T / self.HP\n",
        "        return torch.stack([x, y]).to(self.device)\n",
        "\n",
        "    def __init__(\n",
        "        self,\n",
        "        device,\n",
        "        patch_embed_layer,\n",
        "        patch_size=8,\n",
        "        patch_embed_size=8,\n",
        "        n_classes=16,\n",
        "        W=320,\n",
        "        H=640,\n",
        "        pos_embed=True,\n",
        "        pos_embed_stack=True,\n",
        "        hidden_size=None,\n",
        "    ):\n",
        "        self.W, self.H = W, H\n",
        "        assert self.W % patch_size == 0 and self.H % patch_size == 0\n",
        "\n",
        "        super().__init__()\n",
        "\n",
        "        self.pos_embed = pos_embed\n",
        "        self.pos_embed_stack=True\n",
        "        self.device = device\n",
        "        self.p = patch_size\n",
        "        self.h = patch_embed_size + 2 * int(self.pos_embed and self.pos_embed_stack)\n",
        "        self.WP, self.HP = self.W // self.p, self.H // self.p\n",
        "        self.n_classes = n_classes\n",
        "        self.hidden_size = hidden_size or self.h // 2 + 1\n",
        "\n",
        "        self.patch_embed = patch_embed_layer\n",
        "        self.norm1 = nn.Sequential(\n",
        "            nn.LayerNorm([self.h, self.HP, self.WP]),\n",
        "            nn.Dropout(),\n",
        "        )\n",
        "\n",
        "        self.conv_norm = nn.Sequential(\n",
        "            nn.Conv2d(self.h, self.hidden_size, kernel_size=3, padding=1),\n",
        "            nn.LayerNorm([self.hidden_size, self.HP, self.WP]),\n",
        "            nn.Dropout(),\n",
        "        )\n",
        "\n",
        "        self.patch_to_logit = nn.Conv2d(self.hidden_size, self.n_classes, kernel_size=1)\n",
        "\n",
        "    def forward(self, x):\n",
        "        n_dims = len(x.shape)\n",
        "        x = x if n_dims == 4 else x[None, :, :, :]\n",
        "\n",
        "        x_patched = self.patch_embed(x)\n",
        "        if self.pos_embed:\n",
        "            if self.pos_embed_stack:\n",
        "                pos_embedding = torch.stack([self.pos_embedding() for _ in range(x.shape[0])])\n",
        "                x_patched = torch.concat([x_patched, pos_embedding], dim=1)\n",
        "            else:\n",
        "                x_patched += self.pos_embeddig()\n",
        "        x_patched = self.norm1(x_patched)\n",
        "        x_patched = self.conv_norm(x_patched)\n",
        "        logits = self.patch_to_logit(x_patched)\n",
        "\n",
        "        return logits if n_dims == 4 else logits[0]"
      ],
      "id": "HSdw2SkT7NjT"
    },
    {
      "cell_type": "markdown",
      "metadata": {
        "id": "Hfffx0pVVBMc"
      },
      "source": [
        "## Функции train и evaluate"
      ],
      "id": "Hfffx0pVVBMc"
    },
    {
      "cell_type": "code",
      "execution_count": 15,
      "metadata": {
        "id": "Qo4xnSgFU6S6"
      },
      "outputs": [],
      "source": [
        "def train(model, train_data, criterion, optimizer, device):\n",
        "    model.train()\n",
        "    epoch_loss = 0\n",
        "    for data in tqdm(train_data, desc=\"Training\"):        \n",
        "        X, y = data[0].to(device), data[1]\n",
        "\n",
        "        model.zero_grad()\n",
        "        pred = model(X).to('cpu')\n",
        "\n",
        "        pred = pred.transpose(1, 2).transpose(2, 3).flatten(0, 2)\n",
        "        y = y.flatten()\n",
        "        loss = criterion(pred, y)\n",
        "        loss.backward()\n",
        "        optimizer.step()\n",
        "\n",
        "        epoch_loss += loss\n",
        "    return epoch_loss / len(train_data)\n",
        "\n",
        "\n",
        "def evaluate(model, val_data, criterion, device):\n",
        "    model.eval()\n",
        "    epoch_loss = 0\n",
        "    accuracy_score0, accuracy_score1 = 0, 0\n",
        "    accuracy_total0, accuracy_total1 = 0, 0\n",
        "    with torch.no_grad():\n",
        "        for data in tqdm(val_data, desc=\"Evaluating\"):\n",
        "            X, y = data[0].to(device), data[1]\n",
        "            pred = model(X).to('cpu')\n",
        "\n",
        "            pred = pred.transpose(1, 2).transpose(2, 3).flatten(0, 2)\n",
        "            y = y.flatten()\n",
        "\n",
        "            loss = criterion(pred, y)\n",
        "\n",
        "            pred_classes = pred.argmax(dim=1)\n",
        "            mask0 = y > 0\n",
        "            mask1 = (y > 0) | (pred_classes > 0)\n",
        "            accuracy_score0 += (y[mask0] == pred_classes[mask0]).sum()\n",
        "            accuracy_total0 += len(y[mask0])\n",
        "            accuracy_score1 += (y[mask1] == pred_classes[mask1]).sum()\n",
        "            accuracy_total1 += len(y[mask1])\n",
        "\n",
        "            epoch_loss += loss\n",
        "\n",
        "    return epoch_loss / len(val_data), (accuracy_score0 / accuracy_total0, accuracy_score1 / accuracy_total1)"
      ],
      "id": "Qo4xnSgFU6S6"
    },
    {
      "cell_type": "markdown",
      "metadata": {
        "id": "TBPfNc_lbmih"
      },
      "source": [
        "## Обучение itself"
      ],
      "id": "TBPfNc_lbmih"
    },
    {
      "cell_type": "code",
      "source": [
        "!pip install torch_optimizer"
      ],
      "metadata": {
        "id": "4LikfwWMh7NJ",
        "colab": {
          "base_uri": "https://localhost:8080/"
        },
        "outputId": "67bbe0a9-005a-4877-ab83-0ebf0e4776bc"
      },
      "id": "4LikfwWMh7NJ",
      "execution_count": 23,
      "outputs": [
        {
          "output_type": "stream",
          "name": "stdout",
          "text": [
            "Looking in indexes: https://pypi.org/simple, https://us-python.pkg.dev/colab-wheels/public/simple/\n",
            "Collecting torch_optimizer\n",
            "  Downloading torch_optimizer-0.3.0-py3-none-any.whl (61 kB)\n",
            "\u001b[2K     \u001b[90m━━━━━━━━━━━━━━━━━━━━━━━━━━━━━━━━━━━━━━━━\u001b[0m \u001b[32m61.9/61.9 kB\u001b[0m \u001b[31m2.7 MB/s\u001b[0m eta \u001b[36m0:00:00\u001b[0m\n",
            "\u001b[?25hRequirement already satisfied: torch>=1.5.0 in /usr/local/lib/python3.10/dist-packages (from torch_optimizer) (2.0.0+cu118)\n",
            "Collecting pytorch-ranger>=0.1.1 (from torch_optimizer)\n",
            "  Downloading pytorch_ranger-0.1.1-py3-none-any.whl (14 kB)\n",
            "Requirement already satisfied: filelock in /usr/local/lib/python3.10/dist-packages (from torch>=1.5.0->torch_optimizer) (3.12.0)\n",
            "Requirement already satisfied: typing-extensions in /usr/local/lib/python3.10/dist-packages (from torch>=1.5.0->torch_optimizer) (4.5.0)\n",
            "Requirement already satisfied: sympy in /usr/local/lib/python3.10/dist-packages (from torch>=1.5.0->torch_optimizer) (1.11.1)\n",
            "Requirement already satisfied: networkx in /usr/local/lib/python3.10/dist-packages (from torch>=1.5.0->torch_optimizer) (3.1)\n",
            "Requirement already satisfied: jinja2 in /usr/local/lib/python3.10/dist-packages (from torch>=1.5.0->torch_optimizer) (3.1.2)\n",
            "Requirement already satisfied: triton==2.0.0 in /usr/local/lib/python3.10/dist-packages (from torch>=1.5.0->torch_optimizer) (2.0.0)\n",
            "Requirement already satisfied: cmake in /usr/local/lib/python3.10/dist-packages (from triton==2.0.0->torch>=1.5.0->torch_optimizer) (3.25.2)\n",
            "Requirement already satisfied: lit in /usr/local/lib/python3.10/dist-packages (from triton==2.0.0->torch>=1.5.0->torch_optimizer) (16.0.3)\n",
            "Requirement already satisfied: MarkupSafe>=2.0 in /usr/local/lib/python3.10/dist-packages (from jinja2->torch>=1.5.0->torch_optimizer) (2.1.2)\n",
            "Requirement already satisfied: mpmath>=0.19 in /usr/local/lib/python3.10/dist-packages (from sympy->torch>=1.5.0->torch_optimizer) (1.3.0)\n",
            "Installing collected packages: pytorch-ranger, torch_optimizer\n",
            "Successfully installed pytorch-ranger-0.1.1 torch_optimizer-0.3.0\n"
          ]
        }
      ]
    },
    {
      "cell_type": "code",
      "source": [
        "import torch_optimizer as toptim"
      ],
      "metadata": {
        "id": "256fGmyUhx_y"
      },
      "id": "256fGmyUhx_y",
      "execution_count": 24,
      "outputs": []
    },
    {
      "cell_type": "code",
      "execution_count": 25,
      "metadata": {
        "id": "sMTkaW0gbrg8"
      },
      "outputs": [],
      "source": [
        "import time\n",
        "import gc\n",
        "\n",
        "\n",
        "def cleanup():\n",
        "    gc.collect()\n",
        "    torch.cuda.empty_cache()\n",
        "\n",
        "\n",
        "def epoch_time(start_time, end_time):\n",
        "    elapsed_time = end_time - start_time\n",
        "    elapsed_mins = int(elapsed_time / 60)\n",
        "    elapsed_secs = int(elapsed_time - (elapsed_mins * 60))\n",
        "    return elapsed_mins, elapsed_secs"
      ],
      "id": "sMTkaW0gbrg8"
    },
    {
      "cell_type": "code",
      "execution_count": 26,
      "metadata": {
        "id": "aA6Wv6z_UbX6",
        "colab": {
          "base_uri": "https://localhost:8080/",
          "height": 35
        },
        "outputId": "d6d45b56-bc1e-4241-c2de-11dfd9222087"
      },
      "outputs": [
        {
          "output_type": "execute_result",
          "data": {
            "text/plain": [
              "'Working om cpu'"
            ],
            "application/vnd.google.colaboratory.intrinsic+json": {
              "type": "string"
            }
          },
          "metadata": {},
          "execution_count": 26
        }
      ],
      "source": [
        "device = 'cuda' if torch.cuda.is_available() else 'cpu'\n",
        "n_classes = 16\n",
        "iteration = 1\n",
        "\n",
        "model = PassportRecognizer(\n",
        "    device,\n",
        "    NConvPatchEmbedding(\n",
        "        3,\n",
        "        640,\n",
        "        320,\n",
        "        patch_embed_size=16,\n",
        "        hidden_size=[8, 8],\n",
        "    ),\n",
        "    pos_embed_stack=True,\n",
        "    patch_size=8,\n",
        "    patch_embed_size=16,\n",
        "    hidden_size=16,\n",
        "    n_classes=n_classes,\n",
        ")\n",
        "\n",
        "if iteration > 1:\n",
        "    if device == 'cuda':\n",
        "        model.load_state_dict(torch.load(f'regions_extractor_latest_{i - 1}.pt'))\n",
        "    else:\n",
        "        model.load_state_dict(torch.load(f'regions_extractor_latest_{i - 1}.pt', map_location=torch.device('cpu')))\n",
        "model.to(device)\n",
        "\n",
        "class_weights = [\n",
        "    1.,  # blank\n",
        "    100.,  # department-1 \n",
        "    200.,  # department-2\n",
        "    250.,  # department-3\n",
        "    100.,  # passport date\n",
        "    100.,  # department code\n",
        "    100.,  # surname-1\n",
        "    150.,  # surname-2\n",
        "    100.,  # name\n",
        "    100.,  # last name\n",
        "    100.,  # sex\n",
        "    100.,  # birth date\n",
        "    100.,  # birth place 1\n",
        "    150.,  # birth place 2\n",
        "    200.,  # birth place 3\n",
        "    100.,  # photo\n",
        "]\n",
        "\n",
        "criterion = nn.CrossEntropyLoss()\n",
        "\n",
        "lrs = [1e-2, 1e-3, 1e-3, 1e-3, 1e-4]\n",
        "optimizer = optim.Adam(model.parameters(), lr=lrs[iteration if iteration < len(lrs) else -1])\n",
        "# lr_scheduler = optim.lr_scheduler.StepLR(optimizer, step_size=10, gamma=0.1)\n",
        "\n",
        "f\"Working om {device}\""
      ],
      "id": "aA6Wv6z_UbX6"
    },
    {
      "cell_type": "code",
      "source": [
        "EPOCHS = 10\n",
        "train_loss_storage, valid_loss_storage = [], []\n",
        "\n",
        "valid_loss, accuracy_score = evaluate(model, test_dataloader, criterion, device)\n",
        "print('Before training')\n",
        "print(f'\\t Val. Loss: {valid_loss:.3f}')\n",
        "print(f'\\t Where target not zero. Val. Accuracy: {accuracy_score[0]:.3f}')\n",
        "print(f'\\t Where target or pred not zero. Val. Accuracy: {accuracy_score[1]:.3f}')\n",
        "\n",
        "best_valid_loss = valid_loss"
      ],
      "metadata": {
        "colab": {
          "base_uri": "https://localhost:8080/",
          "height": 118,
          "referenced_widgets": [
            "daf78c5898b4441aa191d9c318604a08",
            "0ae2af02a9e046a6a50108148a237f3f",
            "77be94e3f3664af795e320e0e5159ceb",
            "153af1304a38416f9efe36b52974e658",
            "e1fa30726e424a76afdca6f1f65b650e",
            "091d85f8ba3c4219b8a1c269446c078c",
            "1d6471d6a2a4449a80b91915428158eb",
            "0b0236abe1d240f593e32bddeb4818d4",
            "ea794810d60448458a4fdfb2cd774b5b",
            "17135e0fa2d7425ea433950159ea213a",
            "c2ef093d81cc4092a3931792a7891ca8"
          ]
        },
        "id": "Zk0N574u5G9n",
        "outputId": "806e5dc6-1011-440c-ba58-da4fbd1d32ef"
      },
      "id": "Zk0N574u5G9n",
      "execution_count": 27,
      "outputs": [
        {
          "output_type": "display_data",
          "data": {
            "text/plain": [
              "Evaluating:   0%|          | 0/7 [00:00<?, ?it/s]"
            ],
            "application/vnd.jupyter.widget-view+json": {
              "version_major": 2,
              "version_minor": 0,
              "model_id": "daf78c5898b4441aa191d9c318604a08"
            }
          },
          "metadata": {}
        },
        {
          "output_type": "stream",
          "name": "stdout",
          "text": [
            "Before training\n",
            "\t Val. Loss: 2.756\n",
            "\t Where target not zero. Val. Accuracy: 0.017\n",
            "\t Where target or pred not zero. Val. Accuracy: 0.003\n"
          ]
        }
      ]
    },
    {
      "cell_type": "code",
      "execution_count": null,
      "metadata": {
        "id": "4Igsftf8a-2h",
        "colab": {
          "base_uri": "https://localhost:8080/",
          "height": 235,
          "referenced_widgets": [
            "cc4288fd340d43ab9ae1149cbf280d2b",
            "5b87cb27819b4d92bf94d6d00fd8f5bf",
            "feb5d60bd597495daa49b98bfd401f17",
            "7549943ab7c64624ae02ef41c26f96bb",
            "5e9e3930a5f14c2fac20c743b5d00458",
            "3b4bc5b8d0b14bc69ace5e2289b3fa37",
            "3dd5345b35284890b392b9f442cc64b6",
            "2557cb26c7804a62a4cd604dcfdd23f5",
            "275db3ef1a0b43b8b530d6db335ac134",
            "8897d5b9b8384e73847ac39d57773208",
            "fe48c7abd90f484dba34e8d362b3cac8",
            "3a79ade735da4355a7cbfcd177e5bba8",
            "3a8a3a19a413437f9e7bfb06dbebe6a2",
            "68995087102c44f68e824fd2fd347491",
            "9bbc83832362471385dda99285e55677",
            "62df11d4234e4fa394064cc2b4c01300",
            "eb4a31ee40b54d1da30942f0e039dba6",
            "6b8184a1fe7e4559a711fd66902cc118",
            "2a2a393213854048babd5c2a060698ce",
            "435735d063bf48198f6597c185c22f9d",
            "656aaa4484e8465aaaada0b9f28e199b",
            "10eac6fbb67b4ff19f02dc7194e607e5",
            "9c6b028f4af34de3ae2ae0c2540b71ba",
            "bc048d6752634b508f6b483b230d634c",
            "28307a2fc5b4454db9dabbb70ce0eafa",
            "57a39a0859444f2586026fd39f178e3d",
            "05fac4d066e7401795283d88fed68728",
            "422a2722d9074265b28b33c8bfdc5317",
            "73d232bc5f0349bd9a9c316276ec70fb",
            "7459e4932bdd45c8ac40fa702b7fa8a6",
            "d50ec929045241fba0ef6c98bda60c79",
            "cceb252111734304870853f14d137870",
            "c01cd028f2764161b89d183bf47c3fd8"
          ]
        },
        "outputId": "8f0bf8eb-fd80-48cc-8c41-c34d2c6b0b73"
      },
      "outputs": [
        {
          "output_type": "stream",
          "name": "stdout",
          "text": [
            "Epoch #1\n"
          ]
        },
        {
          "output_type": "display_data",
          "data": {
            "text/plain": [
              "Training:   0%|          | 0/25 [00:00<?, ?it/s]"
            ],
            "application/vnd.jupyter.widget-view+json": {
              "version_major": 2,
              "version_minor": 0,
              "model_id": "cc4288fd340d43ab9ae1149cbf280d2b"
            }
          },
          "metadata": {}
        },
        {
          "output_type": "display_data",
          "data": {
            "text/plain": [
              "Evaluating:   0%|          | 0/7 [00:00<?, ?it/s]"
            ],
            "application/vnd.jupyter.widget-view+json": {
              "version_major": 2,
              "version_minor": 0,
              "model_id": "3a79ade735da4355a7cbfcd177e5bba8"
            }
          },
          "metadata": {}
        },
        {
          "output_type": "stream",
          "name": "stdout",
          "text": [
            "Epoch: 01 | Epoch Time: 4m 22s\n",
            "\tTrain Loss: 1.792\n",
            "\t Val. Loss: 1.158\n",
            "\t Where target not zero. Val. Accuracy: 0.000\n",
            "\t Where target or pred not zero. Val. Accuracy: 0.000\n",
            "Epoch #2\n"
          ]
        },
        {
          "output_type": "display_data",
          "data": {
            "text/plain": [
              "Training:   0%|          | 0/25 [00:00<?, ?it/s]"
            ],
            "application/vnd.jupyter.widget-view+json": {
              "version_major": 2,
              "version_minor": 0,
              "model_id": "9c6b028f4af34de3ae2ae0c2540b71ba"
            }
          },
          "metadata": {}
        }
      ],
      "source": [
        "for epoch in range(EPOCHS):\n",
        "    print(f\"Epoch #{epoch + 1}\")\n",
        "    start_time = time.monotonic()\n",
        "\n",
        "    train_loss = train(model, train_dataloader, criterion, optimizer, device)\n",
        "    train_loss_storage.append(train_loss)\n",
        "\n",
        "    valid_loss, accuracy_score = evaluate(model, test_dataloader, criterion, device)\n",
        "    valid_loss_storage.append(valid_loss)\n",
        "\n",
        "    if valid_loss < best_valid_loss:\n",
        "        best_valid_loss = valid_loss\n",
        "        torch.save(model.state_dict(), f'regions_extractor_best_{i}.pt')\n",
        "    torch.save(model.state_dict(), f'regions_extractor_latest_{i}.pt')    \n",
        "\n",
        "    # lr_scheduler.step()\n",
        "    end_time = time.monotonic()\n",
        "\n",
        "    epoch_mins, epoch_secs = epoch_time(start_time, end_time)\n",
        "\n",
        "    print(f'Epoch: {epoch+1:02} | Epoch Time: {epoch_mins}m {epoch_secs}s')\n",
        "    print(f'\\tTrain Loss: {train_loss:.3f}')\n",
        "    print(f'\\t Val. Loss: {valid_loss:.3f}')\n",
        "    print(f'\\t Where target not zero. Val. Accuracy: {accuracy_score[0]:.3f}')\n",
        "    print(f'\\t Where target or pred not zero. Val. Accuracy: {accuracy_score[1]:.3f}')\n",
        "\n",
        "    cleanup()"
      ],
      "id": "4Igsftf8a-2h"
    },
    {
      "cell_type": "markdown",
      "source": [
        "## Проверим глазами"
      ],
      "metadata": {
        "id": "GcFoqi_mqszr"
      },
      "id": "GcFoqi_mqszr"
    },
    {
      "cell_type": "code",
      "execution_count": null,
      "metadata": {
        "id": "lnKhzYDFdI5N",
        "colab": {
          "base_uri": "https://localhost:8080/",
          "height": 452
        },
        "outputId": "201792e0-fe41-49d5-806a-be8df7641326"
      },
      "outputs": [
        {
          "output_type": "execute_result",
          "data": {
            "text/plain": [
              "<matplotlib.image.AxesImage at 0x7f0e154c7d30>"
            ]
          },
          "metadata": {},
          "execution_count": 29
        },
        {
          "output_type": "display_data",
          "data": {
            "text/plain": [
              "<Figure size 640x480 with 1 Axes>"
            ],
            "image/png": "[encoded data removed]"
          },
          "metadata": {}
        }
      ],
      "source": [
        "transforms_ = transforms.ToTensor()\n",
        "\n",
        "image = PIL.Image.open(\"dataset/images/passport567.jpg\").resize((320, 640))\n",
        "tensor = transforms_(np.array(image)).to(device)\n",
        "\n",
        "plt.imshow(image)"
      ],
      "id": "lnKhzYDFdI5N"
    },
    {
      "cell_type": "code",
      "source": [
        "plt.imshow(tensor.to('cpu').transpose(0, 1).transpose(1, 2))"
      ],
      "metadata": {
        "id": "BMKETRxzQ3Sj",
        "colab": {
          "base_uri": "https://localhost:8080/",
          "height": 452
        },
        "outputId": "e9d44d04-bade-4ec3-a54f-e171d5e0c026"
      },
      "id": "BMKETRxzQ3Sj",
      "execution_count": null,
      "outputs": [
        {
          "output_type": "execute_result",
          "data": {
            "text/plain": [
              "<matplotlib.image.AxesImage at 0x7f0e1218f1f0>"
            ]
          },
          "metadata": {},
          "execution_count": 30
        },
        {
          "output_type": "display_data",
          "data": {
            "text/plain": [
              "<Figure size 640x480 with 1 Axes>"
            ],
            "image/png": "[encoded data removed]"
          },
          "metadata": {}
        }
      ]
    },
    {
      "cell_type": "code",
      "source": [
        "predictions = model(tensor).to('cpu').argmax(dim=0)\n",
        "predictions.shape"
      ],
      "metadata": {
        "id": "QbFeJ5cOq3xH",
        "colab": {
          "base_uri": "https://localhost:8080/"
        },
        "outputId": "d72e457c-774a-4aca-d08c-e28cc4cc0e0b"
      },
      "id": "QbFeJ5cOq3xH",
      "execution_count": null,
      "outputs": [
        {
          "output_type": "execute_result",
          "data": {
            "text/plain": [
              "torch.Size([80, 40])"
            ]
          },
          "metadata": {},
          "execution_count": 43
        }
      ]
    },
    {
      "cell_type": "code",
      "source": [
        "plt.imshow(predictions)"
      ],
      "metadata": {
        "id": "_dSmw0eTRLQQ",
        "colab": {
          "base_uri": "https://localhost:8080/",
          "height": 450
        },
        "outputId": "2b857da1-9cd6-439b-f103-c64a87f35f24"
      },
      "id": "_dSmw0eTRLQQ",
      "execution_count": null,
      "outputs": [
        {
          "output_type": "execute_result",
          "data": {
            "text/plain": [
              "<matplotlib.image.AxesImage at 0x7f0e11decac0>"
            ]
          },
          "metadata": {},
          "execution_count": 44
        },
        {
          "output_type": "display_data",
          "data": {
            "text/plain": [
              "<Figure size 640x480 with 1 Axes>"
            ],
            "image/png": "[encoded data removed]"
          },
          "metadata": {}
        }
      ]
    },
    {
      "cell_type": "code",
      "source": [
        "x, y = train_data[567]"
      ],
      "metadata": {
        "id": "qvyVy797r3c0"
      },
      "id": "qvyVy797r3c0",
      "execution_count": null,
      "outputs": []
    },
    {
      "cell_type": "code",
      "source": [
        "plt.imshow(y)"
      ],
      "metadata": {
        "id": "8e7t2Yzd89sZ",
        "colab": {
          "base_uri": "https://localhost:8080/",
          "height": 450
        },
        "outputId": "c60d39e1-b9e2-4cd7-ec70-8c32540e954a"
      },
      "id": "8e7t2Yzd89sZ",
      "execution_count": null,
      "outputs": [
        {
          "output_type": "execute_result",
          "data": {
            "text/plain": [
              "<matplotlib.image.AxesImage at 0x7f0e12262710>"
            ]
          },
          "metadata": {},
          "execution_count": 34
        },
        {
          "output_type": "display_data",
          "data": {
            "text/plain": [
              "<Figure size 640x480 with 1 Axes>"
            ],
            "image/png": "[encoded data removed]"
          },
          "metadata": {}
        }
      ]
    },
    {
      "cell_type": "code",
      "source": [
        "predictions = model(tensor).to('cpu').argmax(dim=0)\n",
        "\n",
        "for k in range(1, 16):\n",
        "    vy, vx = torch.where(predictions == k)\n",
        "    if len(vx) == 0:\n",
        "        continue\n",
        "    xmin, xmax = torch.quantile(vx.type(torch.float32), q=torch.tensor([0.05, 0.95]), interpolation='lower')\n",
        "    predictions[vy, vx] = 0\n",
        "    if k == 15:\n",
        "        ymin, ymax = torch.quantile(vy.type(torch.float32), q=torch.tensor([0.05, 0.95]), interpolation='lower')\n",
        "        predictions[int(ymin): int(ymax) + 1, int(xmin): int(xmax) + 1] = k\n",
        "    else:\n",
        "        y_vals, y_counts = torch.unique(vy, return_counts=True)\n",
        "        i, j = 0, len(y_vals) - 1\n",
        "        while i < j and y_vals[j] - y_vals[i] > 3:\n",
        "            if y_counts[i] < y_counts[j]:\n",
        "                i += 1\n",
        "            else:\n",
        "                j -= 1\n",
        "        ymin, ymax = y_vals[i], y_vals[j]\n",
        "        predictions[int(ymin): int(ymax) + 1, int(xmin) - 1: int(xmax) + 2] = k\n",
        "plt.imshow(predictions)"
      ],
      "metadata": {
        "colab": {
          "base_uri": "https://localhost:8080/",
          "height": 450
        },
        "id": "EyuUbWz1cmfk",
        "outputId": "d2b743af-2f10-4c61-9879-9ef424f5abc0"
      },
      "id": "EyuUbWz1cmfk",
      "execution_count": null,
      "outputs": [
        {
          "output_type": "execute_result",
          "data": {
            "text/plain": [
              "<matplotlib.image.AxesImage at 0x7f0e11cc9930>"
            ]
          },
          "metadata": {},
          "execution_count": 47
        },
        {
          "output_type": "display_data",
          "data": {
            "text/plain": [
              "<Figure size 640x480 with 1 Axes>"
            ],
            "image/png": "[encoded data removed]"
          },
          "metadata": {}
        }
      ]
    },
    {
      "cell_type": "markdown",
      "source": [
        "## Для нормально кластеризаци\n",
        "Пройдём по трейн датасету и посмотрим, какие размеры в патчах имеют те или иные поля\n",
        "Особенно нам интересны значения по высоте"
      ],
      "metadata": {
        "id": "0GqCqf8C5gqN"
      },
      "id": "0GqCqf8C5gqN"
    },
    {
      "cell_type": "code",
      "source": [
        "y_vals = [0 for _ in range(16)]\n",
        "for i in range(len(train_data)):\n",
        "    x, y = train_data[i]\n",
        "    for k in range(1, 16):\n",
        "        vy, vx = torch.where(y == k)\n",
        "        if len(vx) > 0:\n",
        "            y_vals[k] = max(y_vals[k], vy.max() - vy.min())"
      ],
      "metadata": {
        "id": "AGIBpaTC5sNJ"
      },
      "id": "AGIBpaTC5sNJ",
      "execution_count": 21,
      "outputs": []
    },
    {
      "cell_type": "code",
      "source": [
        "y_vals"
      ],
      "metadata": {
        "id": "EbED1AeEgXFv",
        "colab": {
          "base_uri": "https://localhost:8080/"
        },
        "outputId": "0b540689-14b8-414c-f08f-62911c391995"
      },
      "id": "EbED1AeEgXFv",
      "execution_count": 22,
      "outputs": [
        {
          "output_type": "execute_result",
          "data": {
            "text/plain": [
              "[0,\n",
              " tensor(3),\n",
              " tensor(3),\n",
              " tensor(3),\n",
              " tensor(2),\n",
              " tensor(2),\n",
              " tensor(3),\n",
              " tensor(2),\n",
              " tensor(2),\n",
              " tensor(3),\n",
              " tensor(2),\n",
              " tensor(2),\n",
              " tensor(3),\n",
              " tensor(3),\n",
              " tensor(3),\n",
              " tensor(20)]"
            ]
          },
          "metadata": {},
          "execution_count": 22
        }
      ]
    },
    {
      "cell_type": "code",
      "source": [],
      "metadata": {
        "id": "ZM6i6I-g9Ay9"
      },
      "id": "ZM6i6I-g9Ay9",
      "execution_count": null,
      "outputs": []
    }
  ],
  "metadata": {
    "accelerator": "GPU",
    "colab": {
      "provenance": []
    },
    "gpuClass": "standard",
    "kernelspec": {
      "display_name": "Python 3",
      "language": "python",
      "name": "python3"
    },
    "language_info": {
      "codemirror_mode": {
        "name": "ipython",
        "version": 3
      },
      "file_extension": ".py",
      "mimetype": "text/x-python",
      "name": "python",
      "nbconvert_exporter": "python",
      "pygments_lexer": "ipython3",
      "version": "3.8.8"
    },
    "widgets": {
      "application/vnd.jupyter.widget-state+json": {
        "daf78c5898b4441aa191d9c318604a08": {
          "model_module": "@jupyter-widgets/controls",
          "model_name": "HBoxModel",
          "model_module_version": "1.5.0",
          "state": {
            "_dom_classes": [],
            "_model_module": "@jupyter-widgets/controls",
            "_model_module_version": "1.5.0",
            "_model_name": "HBoxModel",
            "_view_count": null,
            "_view_module": "@jupyter-widgets/controls",
            "_view_module_version": "1.5.0",
            "_view_name": "HBoxView",
            "box_style": "",
            "children": [
              "IPY_MODEL_0ae2af02a9e046a6a50108148a237f3f",
              "IPY_MODEL_77be94e3f3664af795e320e0e5159ceb",
              "IPY_MODEL_153af1304a38416f9efe36b52974e658"
            ],
            "layout": "IPY_MODEL_e1fa30726e424a76afdca6f1f65b650e"
          }
        },
        "0ae2af02a9e046a6a50108148a237f3f": {
          "model_module": "@jupyter-widgets/controls",
          "model_name": "HTMLModel",
          "model_module_version": "1.5.0",
          "state": {
            "_dom_classes": [],
            "_model_module": "@jupyter-widgets/controls",
            "_model_module_version": "1.5.0",
            "_model_name": "HTMLModel",
            "_view_count": null,
            "_view_module": "@jupyter-widgets/controls",
            "_view_module_version": "1.5.0",
            "_view_name": "HTMLView",
            "description": "",
            "description_tooltip": null,
            "layout": "IPY_MODEL_091d85f8ba3c4219b8a1c269446c078c",
            "placeholder": "​",
            "style": "IPY_MODEL_1d6471d6a2a4449a80b91915428158eb",
            "value": "Evaluating: 100%"
          }
        },
        "77be94e3f3664af795e320e0e5159ceb": {
          "model_module": "@jupyter-widgets/controls",
          "model_name": "FloatProgressModel",
          "model_module_version": "1.5.0",
          "state": {
            "_dom_classes": [],
            "_model_module": "@jupyter-widgets/controls",
            "_model_module_version": "1.5.0",
            "_model_name": "FloatProgressModel",
            "_view_count": null,
            "_view_module": "@jupyter-widgets/controls",
            "_view_module_version": "1.5.0",
            "_view_name": "ProgressView",
            "bar_style": "success",
            "description": "",
            "description_tooltip": null,
            "layout": "IPY_MODEL_0b0236abe1d240f593e32bddeb4818d4",
            "max": 7,
            "min": 0,
            "orientation": "horizontal",
            "style": "IPY_MODEL_ea794810d60448458a4fdfb2cd774b5b",
            "value": 7
          }
        },
        "153af1304a38416f9efe36b52974e658": {
          "model_module": "@jupyter-widgets/controls",
          "model_name": "HTMLModel",
          "model_module_version": "1.5.0",
          "state": {
            "_dom_classes": [],
            "_model_module": "@jupyter-widgets/controls",
            "_model_module_version": "1.5.0",
            "_model_name": "HTMLModel",
            "_view_count": null,
            "_view_module": "@jupyter-widgets/controls",
            "_view_module_version": "1.5.0",
            "_view_name": "HTMLView",
            "description": "",
            "description_tooltip": null,
            "layout": "IPY_MODEL_17135e0fa2d7425ea433950159ea213a",
            "placeholder": "​",
            "style": "IPY_MODEL_c2ef093d81cc4092a3931792a7891ca8",
            "value": " 7/7 [00:39&lt;00:00,  4.27s/it]"
          }
        },
        "e1fa30726e424a76afdca6f1f65b650e": {
          "model_module": "@jupyter-widgets/base",
          "model_name": "LayoutModel",
          "model_module_version": "1.2.0",
          "state": {
            "_model_module": "@jupyter-widgets/base",
            "_model_module_version": "1.2.0",
            "_model_name": "LayoutModel",
            "_view_count": null,
            "_view_module": "@jupyter-widgets/base",
            "_view_module_version": "1.2.0",
            "_view_name": "LayoutView",
            "align_content": null,
            "align_items": null,
            "align_self": null,
            "border": null,
            "bottom": null,
            "display": null,
            "flex": null,
            "flex_flow": null,
            "grid_area": null,
            "grid_auto_columns": null,
            "grid_auto_flow": null,
            "grid_auto_rows": null,
            "grid_column": null,
            "grid_gap": null,
            "grid_row": null,
            "grid_template_areas": null,
            "grid_template_columns": null,
            "grid_template_rows": null,
            "height": null,
            "justify_content": null,
            "justify_items": null,
            "left": null,
            "margin": null,
            "max_height": null,
            "max_width": null,
            "min_height": null,
            "min_width": null,
            "object_fit": null,
            "object_position": null,
            "order": null,
            "overflow": null,
            "overflow_x": null,
            "overflow_y": null,
            "padding": null,
            "right": null,
            "top": null,
            "visibility": null,
            "width": null
          }
        },
        "091d85f8ba3c4219b8a1c269446c078c": {
          "model_module": "@jupyter-widgets/base",
          "model_name": "LayoutModel",
          "model_module_version": "1.2.0",
          "state": {
            "_model_module": "@jupyter-widgets/base",
            "_model_module_version": "1.2.0",
            "_model_name": "LayoutModel",
            "_view_count": null,
            "_view_module": "@jupyter-widgets/base",
            "_view_module_version": "1.2.0",
            "_view_name": "LayoutView",
            "align_content": null,
            "align_items": null,
            "align_self": null,
            "border": null,
            "bottom": null,
            "display": null,
            "flex": null,
            "flex_flow": null,
            "grid_area": null,
            "grid_auto_columns": null,
            "grid_auto_flow": null,
            "grid_auto_rows": null,
            "grid_column": null,
            "grid_gap": null,
            "grid_row": null,
            "grid_template_areas": null,
            "grid_template_columns": null,
            "grid_template_rows": null,
            "height": null,
            "justify_content": null,
            "justify_items": null,
            "left": null,
            "margin": null,
            "max_height": null,
            "max_width": null,
            "min_height": null,
            "min_width": null,
            "object_fit": null,
            "object_position": null,
            "order": null,
            "overflow": null,
            "overflow_x": null,
            "overflow_y": null,
            "padding": null,
            "right": null,
            "top": null,
            "visibility": null,
            "width": null
          }
        },
        "1d6471d6a2a4449a80b91915428158eb": {
          "model_module": "@jupyter-widgets/controls",
          "model_name": "DescriptionStyleModel",
          "model_module_version": "1.5.0",
          "state": {
            "_model_module": "@jupyter-widgets/controls",
            "_model_module_version": "1.5.0",
            "_model_name": "DescriptionStyleModel",
            "_view_count": null,
            "_view_module": "@jupyter-widgets/base",
            "_view_module_version": "1.2.0",
            "_view_name": "StyleView",
            "description_width": ""
          }
        },
        "0b0236abe1d240f593e32bddeb4818d4": {
          "model_module": "@jupyter-widgets/base",
          "model_name": "LayoutModel",
          "model_module_version": "1.2.0",
          "state": {
            "_model_module": "@jupyter-widgets/base",
            "_model_module_version": "1.2.0",
            "_model_name": "LayoutModel",
            "_view_count": null,
            "_view_module": "@jupyter-widgets/base",
            "_view_module_version": "1.2.0",
            "_view_name": "LayoutView",
            "align_content": null,
            "align_items": null,
            "align_self": null,
            "border": null,
            "bottom": null,
            "display": null,
            "flex": null,
            "flex_flow": null,
            "grid_area": null,
            "grid_auto_columns": null,
            "grid_auto_flow": null,
            "grid_auto_rows": null,
            "grid_column": null,
            "grid_gap": null,
            "grid_row": null,
            "grid_template_areas": null,
            "grid_template_columns": null,
            "grid_template_rows": null,
            "height": null,
            "justify_content": null,
            "justify_items": null,
            "left": null,
            "margin": null,
            "max_height": null,
            "max_width": null,
            "min_height": null,
            "min_width": null,
            "object_fit": null,
            "object_position": null,
            "order": null,
            "overflow": null,
            "overflow_x": null,
            "overflow_y": null,
            "padding": null,
            "right": null,
            "top": null,
            "visibility": null,
            "width": null
          }
        },
        "ea794810d60448458a4fdfb2cd774b5b": {
          "model_module": "@jupyter-widgets/controls",
          "model_name": "ProgressStyleModel",
          "model_module_version": "1.5.0",
          "state": {
            "_model_module": "@jupyter-widgets/controls",
            "_model_module_version": "1.5.0",
            "_model_name": "ProgressStyleModel",
            "_view_count": null,
            "_view_module": "@jupyter-widgets/base",
            "_view_module_version": "1.2.0",
            "_view_name": "StyleView",
            "bar_color": null,
            "description_width": ""
          }
        },
        "17135e0fa2d7425ea433950159ea213a": {
          "model_module": "@jupyter-widgets/base",
          "model_name": "LayoutModel",
          "model_module_version": "1.2.0",
          "state": {
            "_model_module": "@jupyter-widgets/base",
            "_model_module_version": "1.2.0",
            "_model_name": "LayoutModel",
            "_view_count": null,
            "_view_module": "@jupyter-widgets/base",
            "_view_module_version": "1.2.0",
            "_view_name": "LayoutView",
            "align_content": null,
            "align_items": null,
            "align_self": null,
            "border": null,
            "bottom": null,
            "display": null,
            "flex": null,
            "flex_flow": null,
            "grid_area": null,
            "grid_auto_columns": null,
            "grid_auto_flow": null,
            "grid_auto_rows": null,
            "grid_column": null,
            "grid_gap": null,
            "grid_row": null,
            "grid_template_areas": null,
            "grid_template_columns": null,
            "grid_template_rows": null,
            "height": null,
            "justify_content": null,
            "justify_items": null,
            "left": null,
            "margin": null,
            "max_height": null,
            "max_width": null,
            "min_height": null,
            "min_width": null,
            "object_fit": null,
            "object_position": null,
            "order": null,
            "overflow": null,
            "overflow_x": null,
            "overflow_y": null,
            "padding": null,
            "right": null,
            "top": null,
            "visibility": null,
            "width": null
          }
        },
        "c2ef093d81cc4092a3931792a7891ca8": {
          "model_module": "@jupyter-widgets/controls",
          "model_name": "DescriptionStyleModel",
          "model_module_version": "1.5.0",
          "state": {
            "_model_module": "@jupyter-widgets/controls",
            "_model_module_version": "1.5.0",
            "_model_name": "DescriptionStyleModel",
            "_view_count": null,
            "_view_module": "@jupyter-widgets/base",
            "_view_module_version": "1.2.0",
            "_view_name": "StyleView",
            "description_width": ""
          }
        },
        "cc4288fd340d43ab9ae1149cbf280d2b": {
          "model_module": "@jupyter-widgets/controls",
          "model_name": "HBoxModel",
          "model_module_version": "1.5.0",
          "state": {
            "_dom_classes": [],
            "_model_module": "@jupyter-widgets/controls",
            "_model_module_version": "1.5.0",
            "_model_name": "HBoxModel",
            "_view_count": null,
            "_view_module": "@jupyter-widgets/controls",
            "_view_module_version": "1.5.0",
            "_view_name": "HBoxView",
            "box_style": "",
            "children": [
              "IPY_MODEL_5b87cb27819b4d92bf94d6d00fd8f5bf",
              "IPY_MODEL_feb5d60bd597495daa49b98bfd401f17",
              "IPY_MODEL_7549943ab7c64624ae02ef41c26f96bb"
            ],
            "layout": "IPY_MODEL_5e9e3930a5f14c2fac20c743b5d00458"
          }
        },
        "5b87cb27819b4d92bf94d6d00fd8f5bf": {
          "model_module": "@jupyter-widgets/controls",
          "model_name": "HTMLModel",
          "model_module_version": "1.5.0",
          "state": {
            "_dom_classes": [],
            "_model_module": "@jupyter-widgets/controls",
            "_model_module_version": "1.5.0",
            "_model_name": "HTMLModel",
            "_view_count": null,
            "_view_module": "@jupyter-widgets/controls",
            "_view_module_version": "1.5.0",
            "_view_name": "HTMLView",
            "description": "",
            "description_tooltip": null,
            "layout": "IPY_MODEL_3b4bc5b8d0b14bc69ace5e2289b3fa37",
            "placeholder": "​",
            "style": "IPY_MODEL_3dd5345b35284890b392b9f442cc64b6",
            "value": "Training: 100%"
          }
        },
        "feb5d60bd597495daa49b98bfd401f17": {
          "model_module": "@jupyter-widgets/controls",
          "model_name": "FloatProgressModel",
          "model_module_version": "1.5.0",
          "state": {
            "_dom_classes": [],
            "_model_module": "@jupyter-widgets/controls",
            "_model_module_version": "1.5.0",
            "_model_name": "FloatProgressModel",
            "_view_count": null,
            "_view_module": "@jupyter-widgets/controls",
            "_view_module_version": "1.5.0",
            "_view_name": "ProgressView",
            "bar_style": "success",
            "description": "",
            "description_tooltip": null,
            "layout": "IPY_MODEL_2557cb26c7804a62a4cd604dcfdd23f5",
            "max": 25,
            "min": 0,
            "orientation": "horizontal",
            "style": "IPY_MODEL_275db3ef1a0b43b8b530d6db335ac134",
            "value": 25
          }
        },
        "7549943ab7c64624ae02ef41c26f96bb": {
          "model_module": "@jupyter-widgets/controls",
          "model_name": "HTMLModel",
          "model_module_version": "1.5.0",
          "state": {
            "_dom_classes": [],
            "_model_module": "@jupyter-widgets/controls",
            "_model_module_version": "1.5.0",
            "_model_name": "HTMLModel",
            "_view_count": null,
            "_view_module": "@jupyter-widgets/controls",
            "_view_module_version": "1.5.0",
            "_view_name": "HTMLView",
            "description": "",
            "description_tooltip": null,
            "layout": "IPY_MODEL_8897d5b9b8384e73847ac39d57773208",
            "placeholder": "​",
            "style": "IPY_MODEL_fe48c7abd90f484dba34e8d362b3cac8",
            "value": " 25/25 [03:57&lt;00:00,  9.11s/it]"
          }
        },
        "5e9e3930a5f14c2fac20c743b5d00458": {
          "model_module": "@jupyter-widgets/base",
          "model_name": "LayoutModel",
          "model_module_version": "1.2.0",
          "state": {
            "_model_module": "@jupyter-widgets/base",
            "_model_module_version": "1.2.0",
            "_model_name": "LayoutModel",
            "_view_count": null,
            "_view_module": "@jupyter-widgets/base",
            "_view_module_version": "1.2.0",
            "_view_name": "LayoutView",
            "align_content": null,
            "align_items": null,
            "align_self": null,
            "border": null,
            "bottom": null,
            "display": null,
            "flex": null,
            "flex_flow": null,
            "grid_area": null,
            "grid_auto_columns": null,
            "grid_auto_flow": null,
            "grid_auto_rows": null,
            "grid_column": null,
            "grid_gap": null,
            "grid_row": null,
            "grid_template_areas": null,
            "grid_template_columns": null,
            "grid_template_rows": null,
            "height": null,
            "justify_content": null,
            "justify_items": null,
            "left": null,
            "margin": null,
            "max_height": null,
            "max_width": null,
            "min_height": null,
            "min_width": null,
            "object_fit": null,
            "object_position": null,
            "order": null,
            "overflow": null,
            "overflow_x": null,
            "overflow_y": null,
            "padding": null,
            "right": null,
            "top": null,
            "visibility": null,
            "width": null
          }
        },
        "3b4bc5b8d0b14bc69ace5e2289b3fa37": {
          "model_module": "@jupyter-widgets/base",
          "model_name": "LayoutModel",
          "model_module_version": "1.2.0",
          "state": {
            "_model_module": "@jupyter-widgets/base",
            "_model_module_version": "1.2.0",
            "_model_name": "LayoutModel",
            "_view_count": null,
            "_view_module": "@jupyter-widgets/base",
            "_view_module_version": "1.2.0",
            "_view_name": "LayoutView",
            "align_content": null,
            "align_items": null,
            "align_self": null,
            "border": null,
            "bottom": null,
            "display": null,
            "flex": null,
            "flex_flow": null,
            "grid_area": null,
            "grid_auto_columns": null,
            "grid_auto_flow": null,
            "grid_auto_rows": null,
            "grid_column": null,
            "grid_gap": null,
            "grid_row": null,
            "grid_template_areas": null,
            "grid_template_columns": null,
            "grid_template_rows": null,
            "height": null,
            "justify_content": null,
            "justify_items": null,
            "left": null,
            "margin": null,
            "max_height": null,
            "max_width": null,
            "min_height": null,
            "min_width": null,
            "object_fit": null,
            "object_position": null,
            "order": null,
            "overflow": null,
            "overflow_x": null,
            "overflow_y": null,
            "padding": null,
            "right": null,
            "top": null,
            "visibility": null,
            "width": null
          }
        },
        "3dd5345b35284890b392b9f442cc64b6": {
          "model_module": "@jupyter-widgets/controls",
          "model_name": "DescriptionStyleModel",
          "model_module_version": "1.5.0",
          "state": {
            "_model_module": "@jupyter-widgets/controls",
            "_model_module_version": "1.5.0",
            "_model_name": "DescriptionStyleModel",
            "_view_count": null,
            "_view_module": "@jupyter-widgets/base",
            "_view_module_version": "1.2.0",
            "_view_name": "StyleView",
            "description_width": ""
          }
        },
        "2557cb26c7804a62a4cd604dcfdd23f5": {
          "model_module": "@jupyter-widgets/base",
          "model_name": "LayoutModel",
          "model_module_version": "1.2.0",
          "state": {
            "_model_module": "@jupyter-widgets/base",
            "_model_module_version": "1.2.0",
            "_model_name": "LayoutModel",
            "_view_count": null,
            "_view_module": "@jupyter-widgets/base",
            "_view_module_version": "1.2.0",
            "_view_name": "LayoutView",
            "align_content": null,
            "align_items": null,
            "align_self": null,
            "border": null,
            "bottom": null,
            "display": null,
            "flex": null,
            "flex_flow": null,
            "grid_area": null,
            "grid_auto_columns": null,
            "grid_auto_flow": null,
            "grid_auto_rows": null,
            "grid_column": null,
            "grid_gap": null,
            "grid_row": null,
            "grid_template_areas": null,
            "grid_template_columns": null,
            "grid_template_rows": null,
            "height": null,
            "justify_content": null,
            "justify_items": null,
            "left": null,
            "margin": null,
            "max_height": null,
            "max_width": null,
            "min_height": null,
            "min_width": null,
            "object_fit": null,
            "object_position": null,
            "order": null,
            "overflow": null,
            "overflow_x": null,
            "overflow_y": null,
            "padding": null,
            "right": null,
            "top": null,
            "visibility": null,
            "width": null
          }
        },
        "275db3ef1a0b43b8b530d6db335ac134": {
          "model_module": "@jupyter-widgets/controls",
          "model_name": "ProgressStyleModel",
          "model_module_version": "1.5.0",
          "state": {
            "_model_module": "@jupyter-widgets/controls",
            "_model_module_version": "1.5.0",
            "_model_name": "ProgressStyleModel",
            "_view_count": null,
            "_view_module": "@jupyter-widgets/base",
            "_view_module_version": "1.2.0",
            "_view_name": "StyleView",
            "bar_color": null,
            "description_width": ""
          }
        },
        "8897d5b9b8384e73847ac39d57773208": {
          "model_module": "@jupyter-widgets/base",
          "model_name": "LayoutModel",
          "model_module_version": "1.2.0",
          "state": {
            "_model_module": "@jupyter-widgets/base",
            "_model_module_version": "1.2.0",
            "_model_name": "LayoutModel",
            "_view_count": null,
            "_view_module": "@jupyter-widgets/base",
            "_view_module_version": "1.2.0",
            "_view_name": "LayoutView",
            "align_content": null,
            "align_items": null,
            "align_self": null,
            "border": null,
            "bottom": null,
            "display": null,
            "flex": null,
            "flex_flow": null,
            "grid_area": null,
            "grid_auto_columns": null,
            "grid_auto_flow": null,
            "grid_auto_rows": null,
            "grid_column": null,
            "grid_gap": null,
            "grid_row": null,
            "grid_template_areas": null,
            "grid_template_columns": null,
            "grid_template_rows": null,
            "height": null,
            "justify_content": null,
            "justify_items": null,
            "left": null,
            "margin": null,
            "max_height": null,
            "max_width": null,
            "min_height": null,
            "min_width": null,
            "object_fit": null,
            "object_position": null,
            "order": null,
            "overflow": null,
            "overflow_x": null,
            "overflow_y": null,
            "padding": null,
            "right": null,
            "top": null,
            "visibility": null,
            "width": null
          }
        },
        "fe48c7abd90f484dba34e8d362b3cac8": {
          "model_module": "@jupyter-widgets/controls",
          "model_name": "DescriptionStyleModel",
          "model_module_version": "1.5.0",
          "state": {
            "_model_module": "@jupyter-widgets/controls",
            "_model_module_version": "1.5.0",
            "_model_name": "DescriptionStyleModel",
            "_view_count": null,
            "_view_module": "@jupyter-widgets/base",
            "_view_module_version": "1.2.0",
            "_view_name": "StyleView",
            "description_width": ""
          }
        },
        "3a79ade735da4355a7cbfcd177e5bba8": {
          "model_module": "@jupyter-widgets/controls",
          "model_name": "HBoxModel",
          "model_module_version": "1.5.0",
          "state": {
            "_dom_classes": [],
            "_model_module": "@jupyter-widgets/controls",
            "_model_module_version": "1.5.0",
            "_model_name": "HBoxModel",
            "_view_count": null,
            "_view_module": "@jupyter-widgets/controls",
            "_view_module_version": "1.5.0",
            "_view_name": "HBoxView",
            "box_style": "",
            "children": [
              "IPY_MODEL_3a8a3a19a413437f9e7bfb06dbebe6a2",
              "IPY_MODEL_68995087102c44f68e824fd2fd347491",
              "IPY_MODEL_9bbc83832362471385dda99285e55677"
            ],
            "layout": "IPY_MODEL_62df11d4234e4fa394064cc2b4c01300"
          }
        },
        "3a8a3a19a413437f9e7bfb06dbebe6a2": {
          "model_module": "@jupyter-widgets/controls",
          "model_name": "HTMLModel",
          "model_module_version": "1.5.0",
          "state": {
            "_dom_classes": [],
            "_model_module": "@jupyter-widgets/controls",
            "_model_module_version": "1.5.0",
            "_model_name": "HTMLModel",
            "_view_count": null,
            "_view_module": "@jupyter-widgets/controls",
            "_view_module_version": "1.5.0",
            "_view_name": "HTMLView",
            "description": "",
            "description_tooltip": null,
            "layout": "IPY_MODEL_eb4a31ee40b54d1da30942f0e039dba6",
            "placeholder": "​",
            "style": "IPY_MODEL_6b8184a1fe7e4559a711fd66902cc118",
            "value": "Evaluating: 100%"
          }
        },
        "68995087102c44f68e824fd2fd347491": {
          "model_module": "@jupyter-widgets/controls",
          "model_name": "FloatProgressModel",
          "model_module_version": "1.5.0",
          "state": {
            "_dom_classes": [],
            "_model_module": "@jupyter-widgets/controls",
            "_model_module_version": "1.5.0",
            "_model_name": "FloatProgressModel",
            "_view_count": null,
            "_view_module": "@jupyter-widgets/controls",
            "_view_module_version": "1.5.0",
            "_view_name": "ProgressView",
            "bar_style": "success",
            "description": "",
            "description_tooltip": null,
            "layout": "IPY_MODEL_2a2a393213854048babd5c2a060698ce",
            "max": 7,
            "min": 0,
            "orientation": "horizontal",
            "style": "IPY_MODEL_435735d063bf48198f6597c185c22f9d",
            "value": 7
          }
        },
        "9bbc83832362471385dda99285e55677": {
          "model_module": "@jupyter-widgets/controls",
          "model_name": "HTMLModel",
          "model_module_version": "1.5.0",
          "state": {
            "_dom_classes": [],
            "_model_module": "@jupyter-widgets/controls",
            "_model_module_version": "1.5.0",
            "_model_name": "HTMLModel",
            "_view_count": null,
            "_view_module": "@jupyter-widgets/controls",
            "_view_module_version": "1.5.0",
            "_view_name": "HTMLView",
            "description": "",
            "description_tooltip": null,
            "layout": "IPY_MODEL_656aaa4484e8465aaaada0b9f28e199b",
            "placeholder": "​",
            "style": "IPY_MODEL_10eac6fbb67b4ff19f02dc7194e607e5",
            "value": " 7/7 [00:25&lt;00:00,  3.26s/it]"
          }
        },
        "62df11d4234e4fa394064cc2b4c01300": {
          "model_module": "@jupyter-widgets/base",
          "model_name": "LayoutModel",
          "model_module_version": "1.2.0",
          "state": {
            "_model_module": "@jupyter-widgets/base",
            "_model_module_version": "1.2.0",
            "_model_name": "LayoutModel",
            "_view_count": null,
            "_view_module": "@jupyter-widgets/base",
            "_view_module_version": "1.2.0",
            "_view_name": "LayoutView",
            "align_content": null,
            "align_items": null,
            "align_self": null,
            "border": null,
            "bottom": null,
            "display": null,
            "flex": null,
            "flex_flow": null,
            "grid_area": null,
            "grid_auto_columns": null,
            "grid_auto_flow": null,
            "grid_auto_rows": null,
            "grid_column": null,
            "grid_gap": null,
            "grid_row": null,
            "grid_template_areas": null,
            "grid_template_columns": null,
            "grid_template_rows": null,
            "height": null,
            "justify_content": null,
            "justify_items": null,
            "left": null,
            "margin": null,
            "max_height": null,
            "max_width": null,
            "min_height": null,
            "min_width": null,
            "object_fit": null,
            "object_position": null,
            "order": null,
            "overflow": null,
            "overflow_x": null,
            "overflow_y": null,
            "padding": null,
            "right": null,
            "top": null,
            "visibility": null,
            "width": null
          }
        },
        "eb4a31ee40b54d1da30942f0e039dba6": {
          "model_module": "@jupyter-widgets/base",
          "model_name": "LayoutModel",
          "model_module_version": "1.2.0",
          "state": {
            "_model_module": "@jupyter-widgets/base",
            "_model_module_version": "1.2.0",
            "_model_name": "LayoutModel",
            "_view_count": null,
            "_view_module": "@jupyter-widgets/base",
            "_view_module_version": "1.2.0",
            "_view_name": "LayoutView",
            "align_content": null,
            "align_items": null,
            "align_self": null,
            "border": null,
            "bottom": null,
            "display": null,
            "flex": null,
            "flex_flow": null,
            "grid_area": null,
            "grid_auto_columns": null,
            "grid_auto_flow": null,
            "grid_auto_rows": null,
            "grid_column": null,
            "grid_gap": null,
            "grid_row": null,
            "grid_template_areas": null,
            "grid_template_columns": null,
            "grid_template_rows": null,
            "height": null,
            "justify_content": null,
            "justify_items": null,
            "left": null,
            "margin": null,
            "max_height": null,
            "max_width": null,
            "min_height": null,
            "min_width": null,
            "object_fit": null,
            "object_position": null,
            "order": null,
            "overflow": null,
            "overflow_x": null,
            "overflow_y": null,
            "padding": null,
            "right": null,
            "top": null,
            "visibility": null,
            "width": null
          }
        },
        "6b8184a1fe7e4559a711fd66902cc118": {
          "model_module": "@jupyter-widgets/controls",
          "model_name": "DescriptionStyleModel",
          "model_module_version": "1.5.0",
          "state": {
            "_model_module": "@jupyter-widgets/controls",
            "_model_module_version": "1.5.0",
            "_model_name": "DescriptionStyleModel",
            "_view_count": null,
            "_view_module": "@jupyter-widgets/base",
            "_view_module_version": "1.2.0",
            "_view_name": "StyleView",
            "description_width": ""
          }
        },
        "2a2a393213854048babd5c2a060698ce": {
          "model_module": "@jupyter-widgets/base",
          "model_name": "LayoutModel",
          "model_module_version": "1.2.0",
          "state": {
            "_model_module": "@jupyter-widgets/base",
            "_model_module_version": "1.2.0",
            "_model_name": "LayoutModel",
            "_view_count": null,
            "_view_module": "@jupyter-widgets/base",
            "_view_module_version": "1.2.0",
            "_view_name": "LayoutView",
            "align_content": null,
            "align_items": null,
            "align_self": null,
            "border": null,
            "bottom": null,
            "display": null,
            "flex": null,
            "flex_flow": null,
            "grid_area": null,
            "grid_auto_columns": null,
            "grid_auto_flow": null,
            "grid_auto_rows": null,
            "grid_column": null,
            "grid_gap": null,
            "grid_row": null,
            "grid_template_areas": null,
            "grid_template_columns": null,
            "grid_template_rows": null,
            "height": null,
            "justify_content": null,
            "justify_items": null,
            "left": null,
            "margin": null,
            "max_height": null,
            "max_width": null,
            "min_height": null,
            "min_width": null,
            "object_fit": null,
            "object_position": null,
            "order": null,
            "overflow": null,
            "overflow_x": null,
            "overflow_y": null,
            "padding": null,
            "right": null,
            "top": null,
            "visibility": null,
            "width": null
          }
        },
        "435735d063bf48198f6597c185c22f9d": {
          "model_module": "@jupyter-widgets/controls",
          "model_name": "ProgressStyleModel",
          "model_module_version": "1.5.0",
          "state": {
            "_model_module": "@jupyter-widgets/controls",
            "_model_module_version": "1.5.0",
            "_model_name": "ProgressStyleModel",
            "_view_count": null,
            "_view_module": "@jupyter-widgets/base",
            "_view_module_version": "1.2.0",
            "_view_name": "StyleView",
            "bar_color": null,
            "description_width": ""
          }
        },
        "656aaa4484e8465aaaada0b9f28e199b": {
          "model_module": "@jupyter-widgets/base",
          "model_name": "LayoutModel",
          "model_module_version": "1.2.0",
          "state": {
            "_model_module": "@jupyter-widgets/base",
            "_model_module_version": "1.2.0",
            "_model_name": "LayoutModel",
            "_view_count": null,
            "_view_module": "@jupyter-widgets/base",
            "_view_module_version": "1.2.0",
            "_view_name": "LayoutView",
            "align_content": null,
            "align_items": null,
            "align_self": null,
            "border": null,
            "bottom": null,
            "display": null,
            "flex": null,
            "flex_flow": null,
            "grid_area": null,
            "grid_auto_columns": null,
            "grid_auto_flow": null,
            "grid_auto_rows": null,
            "grid_column": null,
            "grid_gap": null,
            "grid_row": null,
            "grid_template_areas": null,
            "grid_template_columns": null,
            "grid_template_rows": null,
            "height": null,
            "justify_content": null,
            "justify_items": null,
            "left": null,
            "margin": null,
            "max_height": null,
            "max_width": null,
            "min_height": null,
            "min_width": null,
            "object_fit": null,
            "object_position": null,
            "order": null,
            "overflow": null,
            "overflow_x": null,
            "overflow_y": null,
            "padding": null,
            "right": null,
            "top": null,
            "visibility": null,
            "width": null
          }
        },
        "10eac6fbb67b4ff19f02dc7194e607e5": {
          "model_module": "@jupyter-widgets/controls",
          "model_name": "DescriptionStyleModel",
          "model_module_version": "1.5.0",
          "state": {
            "_model_module": "@jupyter-widgets/controls",
            "_model_module_version": "1.5.0",
            "_model_name": "DescriptionStyleModel",
            "_view_count": null,
            "_view_module": "@jupyter-widgets/base",
            "_view_module_version": "1.2.0",
            "_view_name": "StyleView",
            "description_width": ""
          }
        },
        "9c6b028f4af34de3ae2ae0c2540b71ba": {
          "model_module": "@jupyter-widgets/controls",
          "model_name": "HBoxModel",
          "model_module_version": "1.5.0",
          "state": {
            "_dom_classes": [],
            "_model_module": "@jupyter-widgets/controls",
            "_model_module_version": "1.5.0",
            "_model_name": "HBoxModel",
            "_view_count": null,
            "_view_module": "@jupyter-widgets/controls",
            "_view_module_version": "1.5.0",
            "_view_name": "HBoxView",
            "box_style": "",
            "children": [
              "IPY_MODEL_bc048d6752634b508f6b483b230d634c",
              "IPY_MODEL_28307a2fc5b4454db9dabbb70ce0eafa",
              "IPY_MODEL_57a39a0859444f2586026fd39f178e3d"
            ],
            "layout": "IPY_MODEL_05fac4d066e7401795283d88fed68728"
          }
        },
        "bc048d6752634b508f6b483b230d634c": {
          "model_module": "@jupyter-widgets/controls",
          "model_name": "HTMLModel",
          "model_module_version": "1.5.0",
          "state": {
            "_dom_classes": [],
            "_model_module": "@jupyter-widgets/controls",
            "_model_module_version": "1.5.0",
            "_model_name": "HTMLModel",
            "_view_count": null,
            "_view_module": "@jupyter-widgets/controls",
            "_view_module_version": "1.5.0",
            "_view_name": "HTMLView",
            "description": "",
            "description_tooltip": null,
            "layout": "IPY_MODEL_422a2722d9074265b28b33c8bfdc5317",
            "placeholder": "​",
            "style": "IPY_MODEL_73d232bc5f0349bd9a9c316276ec70fb",
            "value": "Training:  60%"
          }
        },
        "28307a2fc5b4454db9dabbb70ce0eafa": {
          "model_module": "@jupyter-widgets/controls",
          "model_name": "FloatProgressModel",
          "model_module_version": "1.5.0",
          "state": {
            "_dom_classes": [],
            "_model_module": "@jupyter-widgets/controls",
            "_model_module_version": "1.5.0",
            "_model_name": "FloatProgressModel",
            "_view_count": null,
            "_view_module": "@jupyter-widgets/controls",
            "_view_module_version": "1.5.0",
            "_view_name": "ProgressView",
            "bar_style": "",
            "description": "",
            "description_tooltip": null,
            "layout": "IPY_MODEL_7459e4932bdd45c8ac40fa702b7fa8a6",
            "max": 25,
            "min": 0,
            "orientation": "horizontal",
            "style": "IPY_MODEL_d50ec929045241fba0ef6c98bda60c79",
            "value": 15
          }
        },
        "57a39a0859444f2586026fd39f178e3d": {
          "model_module": "@jupyter-widgets/controls",
          "model_name": "HTMLModel",
          "model_module_version": "1.5.0",
          "state": {
            "_dom_classes": [],
            "_model_module": "@jupyter-widgets/controls",
            "_model_module_version": "1.5.0",
            "_model_name": "HTMLModel",
            "_view_count": null,
            "_view_module": "@jupyter-widgets/controls",
            "_view_module_version": "1.5.0",
            "_view_name": "HTMLView",
            "description": "",
            "description_tooltip": null,
            "layout": "IPY_MODEL_cceb252111734304870853f14d137870",
            "placeholder": "​",
            "style": "IPY_MODEL_c01cd028f2764161b89d183bf47c3fd8",
            "value": " 15/25 [03:35&lt;03:52, 23.24s/it]"
          }
        },
        "05fac4d066e7401795283d88fed68728": {
          "model_module": "@jupyter-widgets/base",
          "model_name": "LayoutModel",
          "model_module_version": "1.2.0",
          "state": {
            "_model_module": "@jupyter-widgets/base",
            "_model_module_version": "1.2.0",
            "_model_name": "LayoutModel",
            "_view_count": null,
            "_view_module": "@jupyter-widgets/base",
            "_view_module_version": "1.2.0",
            "_view_name": "LayoutView",
            "align_content": null,
            "align_items": null,
            "align_self": null,
            "border": null,
            "bottom": null,
            "display": null,
            "flex": null,
            "flex_flow": null,
            "grid_area": null,
            "grid_auto_columns": null,
            "grid_auto_flow": null,
            "grid_auto_rows": null,
            "grid_column": null,
            "grid_gap": null,
            "grid_row": null,
            "grid_template_areas": null,
            "grid_template_columns": null,
            "grid_template_rows": null,
            "height": null,
            "justify_content": null,
            "justify_items": null,
            "left": null,
            "margin": null,
            "max_height": null,
            "max_width": null,
            "min_height": null,
            "min_width": null,
            "object_fit": null,
            "object_position": null,
            "order": null,
            "overflow": null,
            "overflow_x": null,
            "overflow_y": null,
            "padding": null,
            "right": null,
            "top": null,
            "visibility": null,
            "width": null
          }
        },
        "422a2722d9074265b28b33c8bfdc5317": {
          "model_module": "@jupyter-widgets/base",
          "model_name": "LayoutModel",
          "model_module_version": "1.2.0",
          "state": {
            "_model_module": "@jupyter-widgets/base",
            "_model_module_version": "1.2.0",
            "_model_name": "LayoutModel",
            "_view_count": null,
            "_view_module": "@jupyter-widgets/base",
            "_view_module_version": "1.2.0",
            "_view_name": "LayoutView",
            "align_content": null,
            "align_items": null,
            "align_self": null,
            "border": null,
            "bottom": null,
            "display": null,
            "flex": null,
            "flex_flow": null,
            "grid_area": null,
            "grid_auto_columns": null,
            "grid_auto_flow": null,
            "grid_auto_rows": null,
            "grid_column": null,
            "grid_gap": null,
            "grid_row": null,
            "grid_template_areas": null,
            "grid_template_columns": null,
            "grid_template_rows": null,
            "height": null,
            "justify_content": null,
            "justify_items": null,
            "left": null,
            "margin": null,
            "max_height": null,
            "max_width": null,
            "min_height": null,
            "min_width": null,
            "object_fit": null,
            "object_position": null,
            "order": null,
            "overflow": null,
            "overflow_x": null,
            "overflow_y": null,
            "padding": null,
            "right": null,
            "top": null,
            "visibility": null,
            "width": null
          }
        },
        "73d232bc5f0349bd9a9c316276ec70fb": {
          "model_module": "@jupyter-widgets/controls",
          "model_name": "DescriptionStyleModel",
          "model_module_version": "1.5.0",
          "state": {
            "_model_module": "@jupyter-widgets/controls",
            "_model_module_version": "1.5.0",
            "_model_name": "DescriptionStyleModel",
            "_view_count": null,
            "_view_module": "@jupyter-widgets/base",
            "_view_module_version": "1.2.0",
            "_view_name": "StyleView",
            "description_width": ""
          }
        },
        "7459e4932bdd45c8ac40fa702b7fa8a6": {
          "model_module": "@jupyter-widgets/base",
          "model_name": "LayoutModel",
          "model_module_version": "1.2.0",
          "state": {
            "_model_module": "@jupyter-widgets/base",
            "_model_module_version": "1.2.0",
            "_model_name": "LayoutModel",
            "_view_count": null,
            "_view_module": "@jupyter-widgets/base",
            "_view_module_version": "1.2.0",
            "_view_name": "LayoutView",
            "align_content": null,
            "align_items": null,
            "align_self": null,
            "border": null,
            "bottom": null,
            "display": null,
            "flex": null,
            "flex_flow": null,
            "grid_area": null,
            "grid_auto_columns": null,
            "grid_auto_flow": null,
            "grid_auto_rows": null,
            "grid_column": null,
            "grid_gap": null,
            "grid_row": null,
            "grid_template_areas": null,
            "grid_template_columns": null,
            "grid_template_rows": null,
            "height": null,
            "justify_content": null,
            "justify_items": null,
            "left": null,
            "margin": null,
            "max_height": null,
            "max_width": null,
            "min_height": null,
            "min_width": null,
            "object_fit": null,
            "object_position": null,
            "order": null,
            "overflow": null,
            "overflow_x": null,
            "overflow_y": null,
            "padding": null,
            "right": null,
            "top": null,
            "visibility": null,
            "width": null
          }
        },
        "d50ec929045241fba0ef6c98bda60c79": {
          "model_module": "@jupyter-widgets/controls",
          "model_name": "ProgressStyleModel",
          "model_module_version": "1.5.0",
          "state": {
            "_model_module": "@jupyter-widgets/controls",
            "_model_module_version": "1.5.0",
            "_model_name": "ProgressStyleModel",
            "_view_count": null,
            "_view_module": "@jupyter-widgets/base",
            "_view_module_version": "1.2.0",
            "_view_name": "StyleView",
            "bar_color": null,
            "description_width": ""
          }
        },
        "cceb252111734304870853f14d137870": {
          "model_module": "@jupyter-widgets/base",
          "model_name": "LayoutModel",
          "model_module_version": "1.2.0",
          "state": {
            "_model_module": "@jupyter-widgets/base",
            "_model_module_version": "1.2.0",
            "_model_name": "LayoutModel",
            "_view_count": null,
            "_view_module": "@jupyter-widgets/base",
            "_view_module_version": "1.2.0",
            "_view_name": "LayoutView",
            "align_content": null,
            "align_items": null,
            "align_self": null,
            "border": null,
            "bottom": null,
            "display": null,
            "flex": null,
            "flex_flow": null,
            "grid_area": null,
            "grid_auto_columns": null,
            "grid_auto_flow": null,
            "grid_auto_rows": null,
            "grid_column": null,
            "grid_gap": null,
            "grid_row": null,
            "grid_template_areas": null,
            "grid_template_columns": null,
            "grid_template_rows": null,
            "height": null,
            "justify_content": null,
            "justify_items": null,
            "left": null,
            "margin": null,
            "max_height": null,
            "max_width": null,
            "min_height": null,
            "min_width": null,
            "object_fit": null,
            "object_position": null,
            "order": null,
            "overflow": null,
            "overflow_x": null,
            "overflow_y": null,
            "padding": null,
            "right": null,
            "top": null,
            "visibility": null,
            "width": null
          }
        },
        "c01cd028f2764161b89d183bf47c3fd8": {
          "model_module": "@jupyter-widgets/controls",
          "model_name": "DescriptionStyleModel",
          "model_module_version": "1.5.0",
          "state": {
            "_model_module": "@jupyter-widgets/controls",
            "_model_module_version": "1.5.0",
            "_model_name": "DescriptionStyleModel",
            "_view_count": null,
            "_view_module": "@jupyter-widgets/base",
            "_view_module_version": "1.2.0",
            "_view_name": "StyleView",
            "description_width": ""
          }
        }
      }
    }
  },
  "nbformat": 4,
  "nbformat_minor": 5
}